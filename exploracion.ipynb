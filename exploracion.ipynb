{
 "cells": [
  {
   "cell_type": "code",
   "execution_count": 1,
   "metadata": {},
   "outputs": [],
   "source": [
    "import numpy as np              ;   import pandas as pd\n",
    "import geopandas as gpd         ;   from shapely.geometry import Polygon, Point, LineString\n",
    "import shapely as sp            ;   import matplotlib.pyplot as plt\n",
    "import time                     ;   import unidecode"
   ]
  },
  {
   "cell_type": "code",
   "execution_count": 2,
   "metadata": {},
   "outputs": [],
   "source": [
    "startAll = time.time()\n",
    "def tiempo():\n",
    "    endAll = time.time() ; minutos = int(round(endAll - startAll)/60) ; segundos = int(round(endAll - startAll)-(int(round(endAll - startAll)/60))*60) ;     tiempo = 'tardo en ejecutar',minutos,'minutos ',segundos,'segundos' ;\n",
    "    return tiempo"
   ]
  },
  {
   "cell_type": "markdown",
   "metadata": {},
   "source": [
    "# PROPERATTI DATABASE"
   ]
  },
  {
   "cell_type": "code",
   "execution_count": 3,
   "metadata": {},
   "outputs": [
    {
     "data": {
      "text/plain": [
       "(121220, 25)"
      ]
     },
     "execution_count": 3,
     "metadata": {},
     "output_type": "execute_result"
    }
   ],
   "source": [
    "df = pd.read_csv('properatti.csv',sep=',',index_col=0)\n",
    "df.shape"
   ]
  },
  {
   "cell_type": "code",
   "execution_count": 4,
   "metadata": {},
   "outputs": [
    {
     "data": {
      "text/plain": [
       "1061"
      ]
     },
     "execution_count": 4,
     "metadata": {},
     "output_type": "execute_result"
    }
   ],
   "source": [
    "len(df.place_name.unique())"
   ]
  },
  {
   "cell_type": "code",
   "execution_count": 5,
   "metadata": {},
   "outputs": [
    {
     "data": {
      "text/plain": [
       "4"
      ]
     },
     "execution_count": 5,
     "metadata": {},
     "output_type": "execute_result"
    }
   ],
   "source": [
    "len(df.property_type.unique())"
   ]
  },
  {
   "cell_type": "markdown",
   "metadata": {},
   "source": [
    "# MISSING DATA"
   ]
  },
  {
   "cell_type": "code",
   "execution_count": 6,
   "metadata": {},
   "outputs": [
    {
     "data": {
      "text/plain": [
       "place_name                        23\n",
       "geonames_id                    18717\n",
       "lat-lon                        51550\n",
       "lat                            51550\n",
       "lon                            51550\n",
       "price                          20410\n",
       "currency                       20411\n",
       "price_aprox_local_currency     20410\n",
       "price_aprox_usd                20410\n",
       "surface_total_in_m2            39328\n",
       "surface_covered_in_m2          19907\n",
       "price_usd_per_m2               52603\n",
       "price_per_m2                   33562\n",
       "floor                         113321\n",
       "rooms                          73830\n",
       "expenses                      106958\n",
       "description                        2\n",
       "image_thumbnail                 3112\n",
       "dtype: int64"
      ]
     },
     "execution_count": 6,
     "metadata": {},
     "output_type": "execute_result"
    }
   ],
   "source": [
    "# vemos el total de nulos del dataset\n",
    "df.isna().sum()[df.isna().sum()>0]"
   ]
  },
  {
   "cell_type": "code",
   "execution_count": 7,
   "metadata": {},
   "outputs": [
    {
     "data": {
      "text/plain": [
       "geonames_id    18717\n",
       "lat-lon        51550\n",
       "lat            51550\n",
       "lon            51550\n",
       "dtype: int64"
      ]
     },
     "execution_count": 7,
     "metadata": {},
     "output_type": "execute_result"
    }
   ],
   "source": [
    "# vemos que los faltantes de geolocalización no coinciden, asique hay esperanzas...\n",
    "df.isna().sum()[df.isna().sum()>0][['geonames_id','lat-lon','lat','lon']]"
   ]
  },
  {
   "cell_type": "code",
   "execution_count": 8,
   "metadata": {},
   "outputs": [
    {
     "data": {
      "text/html": [
       "<div>\n",
       "<style scoped>\n",
       "    .dataframe tbody tr th:only-of-type {\n",
       "        vertical-align: middle;\n",
       "    }\n",
       "\n",
       "    .dataframe tbody tr th {\n",
       "        vertical-align: top;\n",
       "    }\n",
       "\n",
       "    .dataframe thead th {\n",
       "        text-align: right;\n",
       "    }\n",
       "</style>\n",
       "<table border=\"1\" class=\"dataframe\">\n",
       "  <thead>\n",
       "    <tr style=\"text-align: right;\">\n",
       "      <th></th>\n",
       "      <th>geonames_id</th>\n",
       "      <th>lat-lon</th>\n",
       "      <th>lat</th>\n",
       "      <th>lon</th>\n",
       "    </tr>\n",
       "  </thead>\n",
       "  <tbody>\n",
       "    <tr>\n",
       "      <th>25591</th>\n",
       "      <td>3436003.0</td>\n",
       "      <td>NaN</td>\n",
       "      <td>NaN</td>\n",
       "      <td>NaN</td>\n",
       "    </tr>\n",
       "    <tr>\n",
       "      <th>91047</th>\n",
       "      <td>3435607.0</td>\n",
       "      <td>NaN</td>\n",
       "      <td>NaN</td>\n",
       "      <td>NaN</td>\n",
       "    </tr>\n",
       "    <tr>\n",
       "      <th>118281</th>\n",
       "      <td>3860259.0</td>\n",
       "      <td>NaN</td>\n",
       "      <td>NaN</td>\n",
       "      <td>NaN</td>\n",
       "    </tr>\n",
       "    <tr>\n",
       "      <th>93750</th>\n",
       "      <td>3428983.0</td>\n",
       "      <td>NaN</td>\n",
       "      <td>NaN</td>\n",
       "      <td>NaN</td>\n",
       "    </tr>\n",
       "    <tr>\n",
       "      <th>96462</th>\n",
       "      <td>3427458.0</td>\n",
       "      <td>NaN</td>\n",
       "      <td>NaN</td>\n",
       "      <td>NaN</td>\n",
       "    </tr>\n",
       "    <tr>\n",
       "      <th>91248</th>\n",
       "      <td>3434130.0</td>\n",
       "      <td>NaN</td>\n",
       "      <td>NaN</td>\n",
       "      <td>NaN</td>\n",
       "    </tr>\n",
       "    <tr>\n",
       "      <th>106374</th>\n",
       "      <td>3838574.0</td>\n",
       "      <td>NaN</td>\n",
       "      <td>NaN</td>\n",
       "      <td>NaN</td>\n",
       "    </tr>\n",
       "    <tr>\n",
       "      <th>50391</th>\n",
       "      <td>3433955.0</td>\n",
       "      <td>NaN</td>\n",
       "      <td>NaN</td>\n",
       "      <td>NaN</td>\n",
       "    </tr>\n",
       "    <tr>\n",
       "      <th>11983</th>\n",
       "      <td>3435087.0</td>\n",
       "      <td>NaN</td>\n",
       "      <td>NaN</td>\n",
       "      <td>NaN</td>\n",
       "    </tr>\n",
       "    <tr>\n",
       "      <th>92383</th>\n",
       "      <td>3430863.0</td>\n",
       "      <td>NaN</td>\n",
       "      <td>NaN</td>\n",
       "      <td>NaN</td>\n",
       "    </tr>\n",
       "  </tbody>\n",
       "</table>\n",
       "</div>"
      ],
      "text/plain": [
       "        geonames_id lat-lon  lat  lon\n",
       "25591     3436003.0     NaN  NaN  NaN\n",
       "91047     3435607.0     NaN  NaN  NaN\n",
       "118281    3860259.0     NaN  NaN  NaN\n",
       "93750     3428983.0     NaN  NaN  NaN\n",
       "96462     3427458.0     NaN  NaN  NaN\n",
       "91248     3434130.0     NaN  NaN  NaN\n",
       "106374    3838574.0     NaN  NaN  NaN\n",
       "50391     3433955.0     NaN  NaN  NaN\n",
       "11983     3435087.0     NaN  NaN  NaN\n",
       "92383     3430863.0     NaN  NaN  NaN"
      ]
     },
     "execution_count": 8,
     "metadata": {},
     "output_type": "execute_result"
    }
   ],
   "source": [
    "# vemos registros sin lat-long pero con geonames_id, recuperaremos ese lat-long\n",
    "df[df['lat-lon'].isnull()][['geonames_id','lat-lon','lat','lon']].sample(10)"
   ]
  },
  {
   "cell_type": "code",
   "execution_count": 16,
   "metadata": {},
   "outputs": [],
   "source": [
    "names = ['geonameid','name','asciiname','alternatenames','latitude','longitude','feature_class','feature_code','country_code','cc2','admin1_code','admin2_code','admin3_code','admin4_code','population','elevation','dem','timezone','modification_date']"
   ]
  },
  {
   "cell_type": "code",
   "execution_count": 17,
   "metadata": {},
   "outputs": [],
   "source": [
    "geoNames = pd.read_csv('geonames_id/AR/AR_copia.csv',error_bad_lines=False,sep=';',header=None,names=names)"
   ]
  },
  {
   "cell_type": "code",
   "execution_count": 19,
   "metadata": {},
   "outputs": [
    {
     "data": {
      "text/html": [
       "<div>\n",
       "<style scoped>\n",
       "    .dataframe tbody tr th:only-of-type {\n",
       "        vertical-align: middle;\n",
       "    }\n",
       "\n",
       "    .dataframe tbody tr th {\n",
       "        vertical-align: top;\n",
       "    }\n",
       "\n",
       "    .dataframe thead th {\n",
       "        text-align: right;\n",
       "    }\n",
       "</style>\n",
       "<table border=\"1\" class=\"dataframe\">\n",
       "  <thead>\n",
       "    <tr style=\"text-align: right;\">\n",
       "      <th></th>\n",
       "      <th>geonameid</th>\n",
       "      <th>name</th>\n",
       "      <th>asciiname</th>\n",
       "      <th>alternatenames</th>\n",
       "      <th>latitude</th>\n",
       "      <th>longitude</th>\n",
       "      <th>feature_class</th>\n",
       "      <th>feature_code</th>\n",
       "      <th>country_code</th>\n",
       "      <th>cc2</th>\n",
       "      <th>admin1_code</th>\n",
       "      <th>admin2_code</th>\n",
       "      <th>admin3_code</th>\n",
       "      <th>admin4_code</th>\n",
       "      <th>population</th>\n",
       "      <th>elevation</th>\n",
       "      <th>dem</th>\n",
       "      <th>timezone</th>\n",
       "      <th>modification_date</th>\n",
       "    </tr>\n",
       "  </thead>\n",
       "  <tbody>\n",
       "    <tr>\n",
       "      <th>9709</th>\n",
       "      <td>3832340</td>\n",
       "      <td>Monte de Yalán</td>\n",
       "      <td>Monte de Yalan</td>\n",
       "      <td>NaN</td>\n",
       "      <td>-28.68333</td>\n",
       "      <td>-61.85000</td>\n",
       "      <td>V</td>\n",
       "      <td>SCRB</td>\n",
       "      <td>AR</td>\n",
       "      <td>NaN</td>\n",
       "      <td>22.0</td>\n",
       "      <td>NaN</td>\n",
       "      <td>NaN</td>\n",
       "      <td>NaN</td>\n",
       "      <td>0</td>\n",
       "      <td>NaN</td>\n",
       "      <td>86</td>\n",
       "      <td>America/Argentina/Cordoba</td>\n",
       "      <td>1993-12-21</td>\n",
       "    </tr>\n",
       "    <tr>\n",
       "      <th>32260</th>\n",
       "      <td>3854978</td>\n",
       "      <td>Gobernador Mayer</td>\n",
       "      <td>Gobernador Mayer</td>\n",
       "      <td>NaN</td>\n",
       "      <td>-51.34835</td>\n",
       "      <td>-70.29135</td>\n",
       "      <td>P</td>\n",
       "      <td>PPL</td>\n",
       "      <td>AR</td>\n",
       "      <td>NaN</td>\n",
       "      <td>20.0</td>\n",
       "      <td>78021.0</td>\n",
       "      <td>NaN</td>\n",
       "      <td>NaN</td>\n",
       "      <td>0</td>\n",
       "      <td>NaN</td>\n",
       "      <td>104</td>\n",
       "      <td>America/Argentina/Rio_Gallegos</td>\n",
       "      <td>2016-01-30</td>\n",
       "    </tr>\n",
       "    <tr>\n",
       "      <th>16875</th>\n",
       "      <td>3839540</td>\n",
       "      <td>Arroyo Quinsicunoca</td>\n",
       "      <td>Arroyo Quinsicunoca</td>\n",
       "      <td>NaN</td>\n",
       "      <td>-39.40121</td>\n",
       "      <td>-70.23477</td>\n",
       "      <td>H</td>\n",
       "      <td>STMI</td>\n",
       "      <td>AR</td>\n",
       "      <td>NaN</td>\n",
       "      <td>15.0</td>\n",
       "      <td>NaN</td>\n",
       "      <td>NaN</td>\n",
       "      <td>NaN</td>\n",
       "      <td>0</td>\n",
       "      <td>NaN</td>\n",
       "      <td>1007</td>\n",
       "      <td>America/Argentina/Salta</td>\n",
       "      <td>2011-04-19</td>\n",
       "    </tr>\n",
       "  </tbody>\n",
       "</table>\n",
       "</div>"
      ],
      "text/plain": [
       "       geonameid                 name            asciiname alternatenames  \\\n",
       "9709     3832340       Monte de Yalán       Monte de Yalan            NaN   \n",
       "32260    3854978     Gobernador Mayer     Gobernador Mayer            NaN   \n",
       "16875    3839540  Arroyo Quinsicunoca  Arroyo Quinsicunoca            NaN   \n",
       "\n",
       "       latitude  longitude feature_class feature_code country_code  cc2  \\\n",
       "9709  -28.68333  -61.85000             V         SCRB           AR  NaN   \n",
       "32260 -51.34835  -70.29135             P          PPL           AR  NaN   \n",
       "16875 -39.40121  -70.23477             H         STMI           AR  NaN   \n",
       "\n",
       "       admin1_code  admin2_code  admin3_code  admin4_code  population  \\\n",
       "9709          22.0          NaN          NaN          NaN           0   \n",
       "32260         20.0      78021.0          NaN          NaN           0   \n",
       "16875         15.0          NaN          NaN          NaN           0   \n",
       "\n",
       "       elevation   dem                        timezone modification_date  \n",
       "9709         NaN    86       America/Argentina/Cordoba        1993-12-21  \n",
       "32260        NaN   104  America/Argentina/Rio_Gallegos        2016-01-30  \n",
       "16875        NaN  1007         America/Argentina/Salta        2011-04-19  "
      ]
     },
     "execution_count": 19,
     "metadata": {},
     "output_type": "execute_result"
    }
   ],
   "source": [
    "geoNames.sample(3)"
   ]
  },
  {
   "cell_type": "code",
   "execution_count": 21,
   "metadata": {},
   "outputs": [
    {
     "data": {
      "text/html": [
       "<div>\n",
       "<style scoped>\n",
       "    .dataframe tbody tr th:only-of-type {\n",
       "        vertical-align: middle;\n",
       "    }\n",
       "\n",
       "    .dataframe tbody tr th {\n",
       "        vertical-align: top;\n",
       "    }\n",
       "\n",
       "    .dataframe thead th {\n",
       "        text-align: right;\n",
       "    }\n",
       "</style>\n",
       "<table border=\"1\" class=\"dataframe\">\n",
       "  <thead>\n",
       "    <tr style=\"text-align: right;\">\n",
       "      <th></th>\n",
       "      <th>geonameid</th>\n",
       "      <th>name</th>\n",
       "      <th>asciiname</th>\n",
       "      <th>alternatenames</th>\n",
       "      <th>latitude</th>\n",
       "      <th>longitude</th>\n",
       "      <th>feature_class</th>\n",
       "      <th>feature_code</th>\n",
       "      <th>country_code</th>\n",
       "      <th>cc2</th>\n",
       "      <th>admin1_code</th>\n",
       "      <th>admin2_code</th>\n",
       "      <th>admin3_code</th>\n",
       "      <th>admin4_code</th>\n",
       "      <th>population</th>\n",
       "      <th>elevation</th>\n",
       "      <th>dem</th>\n",
       "      <th>timezone</th>\n",
       "      <th>modification_date</th>\n",
       "    </tr>\n",
       "  </thead>\n",
       "  <tbody>\n",
       "    <tr>\n",
       "      <th>257</th>\n",
       "      <td>3427458</td>\n",
       "      <td>Villa Crespo</td>\n",
       "      <td>Villa Crespo</td>\n",
       "      <td>Vilja Krespas,Villa Crespo,ビジャ・クレスポ</td>\n",
       "      <td>-34.60001</td>\n",
       "      <td>-58.44735</td>\n",
       "      <td>P</td>\n",
       "      <td>PPLX</td>\n",
       "      <td>AR</td>\n",
       "      <td>NaN</td>\n",
       "      <td>7.0</td>\n",
       "      <td>2015.0</td>\n",
       "      <td>NaN</td>\n",
       "      <td>NaN</td>\n",
       "      <td>0</td>\n",
       "      <td>NaN</td>\n",
       "      <td>16</td>\n",
       "      <td>America/Argentina/Buenos_Aires</td>\n",
       "      <td>2017-05-08</td>\n",
       "    </tr>\n",
       "  </tbody>\n",
       "</table>\n",
       "</div>"
      ],
      "text/plain": [
       "     geonameid          name     asciiname  \\\n",
       "257    3427458  Villa Crespo  Villa Crespo   \n",
       "\n",
       "                          alternatenames  latitude  longitude feature_class  \\\n",
       "257  Vilja Krespas,Villa Crespo,ビジャ・クレスポ -34.60001  -58.44735             P   \n",
       "\n",
       "    feature_code country_code  cc2  admin1_code  admin2_code  admin3_code  \\\n",
       "257         PPLX           AR  NaN          7.0       2015.0          NaN   \n",
       "\n",
       "     admin4_code  population  elevation  dem                        timezone  \\\n",
       "257          NaN           0        NaN   16  America/Argentina/Buenos_Aires   \n",
       "\n",
       "    modification_date  \n",
       "257        2017-05-08  "
      ]
     },
     "execution_count": 21,
     "metadata": {},
     "output_type": "execute_result"
    }
   ],
   "source": [
    "geoNames.loc[geoNames.geonameid == 3427458]"
   ]
  },
  {
   "cell_type": "code",
   "execution_count": 22,
   "metadata": {},
   "outputs": [],
   "source": [
    "# diccionario para localizar geoNames\n",
    "geo_dic = {geoNames.geonameid.iloc[i] : [geoNames.latitude.iloc[i] , geoNames.longitude.iloc[i]] for i in range(len(geoNames))}"
   ]
  },
  {
   "cell_type": "code",
   "execution_count": 27,
   "metadata": {},
   "outputs": [
    {
     "name": "stdout",
     "output_type": "stream",
     "text": [
      "[nan]\n",
      "[nan]\n"
     ]
    }
   ],
   "source": [
    "# en todos los casos que no tenemos lat-lon no tenemos ni lat ni lon...\n",
    "print(df.loc[df['lat-lon'].isnull()].lat.unique())\n",
    "print(df.loc[df['lat-lon'].isnull()].lon.unique())"
   ]
  },
  {
   "cell_type": "code",
   "execution_count": 34,
   "metadata": {},
   "outputs": [
    {
     "name": "stdout",
     "output_type": "stream",
     "text": [
      "[nan]\n",
      "[nan]\n"
     ]
    }
   ],
   "source": [
    "# en todos los casos que no tenemos lat ni lon no tenemos lat-lon...\n",
    "print(df.loc[df['lat'].isnull()]['lat-lon'].unique())\n",
    "print(df.loc[df['lon'].isnull()]['lat-lon'].unique())"
   ]
  },
  {
   "cell_type": "markdown",
   "metadata": {},
   "source": [
    "### podemos pisar informacion tranquilos"
   ]
  },
  {
   "cell_type": "code",
   "execution_count": 46,
   "metadata": {},
   "outputs": [],
   "source": [
    "df.lat.fillna(0,inplace=True)\n",
    "df.lon.fillna(0,inplace=True)"
   ]
  },
  {
   "cell_type": "code",
   "execution_count": 55,
   "metadata": {},
   "outputs": [],
   "source": [
    "for i in range(len(df)):\n",
    "    try:\n",
    "        if df.lat.iloc[i] == 0:\n",
    "            df.lat.iloc[i] = geo_dic[df.geonames_id.iloc[i]][0]\n",
    "            df.lon.iloc[i] = geo_dic[df.geonames_id.iloc[i]][1]\n",
    "    except:\n",
    "        pass"
   ]
  },
  {
   "cell_type": "code",
   "execution_count": 89,
   "metadata": {},
   "outputs": [
    {
     "data": {
      "text/plain": [
       "array(['Mataderos', 'La Plata', 'Liniers', ..., 'Laguna Paiva',\n",
       "       'Malabrigo', 'Altos de Hudson I'], dtype=object)"
      ]
     },
     "execution_count": 89,
     "metadata": {},
     "output_type": "execute_result"
    }
   ],
   "source": [
    "df.place_name.unique()"
   ]
  },
  {
   "cell_type": "code",
   "execution_count": 57,
   "metadata": {},
   "outputs": [
    {
     "data": {
      "text/plain": [
       "place_name                        23\n",
       "geonames_id                    18717\n",
       "lat-lon                        51550\n",
       "price                          20410\n",
       "currency                       20411\n",
       "price_aprox_local_currency     20410\n",
       "price_aprox_usd                20410\n",
       "surface_total_in_m2            39328\n",
       "surface_covered_in_m2          19907\n",
       "price_usd_per_m2               52603\n",
       "price_per_m2                   33562\n",
       "floor                         113321\n",
       "rooms                          73830\n",
       "expenses                      106958\n",
       "description                        2\n",
       "image_thumbnail                 3112\n",
       "dtype: int64"
      ]
     },
     "execution_count": 57,
     "metadata": {},
     "output_type": "execute_result"
    }
   ],
   "source": [
    "# lat y long desaparecen de nuestro conteo de nulos.... EXITO!!!\n",
    "df.isna().sum()[df.isna().sum()>0]"
   ]
  },
  {
   "cell_type": "markdown",
   "metadata": {},
   "source": [
    "# GEOLOCALIZACION"
   ]
  },
  {
   "cell_type": "code",
   "execution_count": 58,
   "metadata": {},
   "outputs": [],
   "source": [
    "geodf = gpd.GeoDataFrame(df)"
   ]
  },
  {
   "cell_type": "code",
   "execution_count": 59,
   "metadata": {},
   "outputs": [],
   "source": [
    "geodf = geodf.loc[geodf.lat.notna()]"
   ]
  },
  {
   "cell_type": "code",
   "execution_count": 60,
   "metadata": {},
   "outputs": [],
   "source": [
    "geodf.reset_index(drop=True,inplace=True)"
   ]
  },
  {
   "cell_type": "code",
   "execution_count": 61,
   "metadata": {},
   "outputs": [],
   "source": [
    "geodf['geometry'] = geodf.index.map(lambda x: Point(geodf.lon.iloc[x],geodf.lat.iloc[x]))"
   ]
  },
  {
   "cell_type": "markdown",
   "metadata": {},
   "source": [
    "# MAPA Argentina"
   ]
  },
  {
   "cell_type": "code",
   "execution_count": 62,
   "metadata": {},
   "outputs": [],
   "source": [
    "# ENCONTRE UN MAPA EMBEBIDO EN PANDAS, PERO NO COINCIDE 100%, NO LO USO\n",
    "# mundo = gpd.read_file(gpd.datasets.get_path('naturalearth_lowres'))\n",
    "# cities = gpd.read_file(gpd.datasets.get_path('naturalearth_cities'))\n",
    "\n",
    "# argentina = mundo.loc[mundo.name == 'Argentina']"
   ]
  },
  {
   "cell_type": "code",
   "execution_count": 63,
   "metadata": {},
   "outputs": [],
   "source": [
    "# leo una cartografia de fondo\n",
    "mapBase = gpd.read_file('Codgeo/pxdptodatosok.shp')"
   ]
  },
  {
   "cell_type": "code",
   "execution_count": 64,
   "metadata": {},
   "outputs": [],
   "source": [
    "def acentos(data):\n",
    "    try:         return data.replace('Ã³','ó').replace('Ã¡','á').replace('Ã­','í').replace('Ã©','e').replace('Ãº','ú')\n",
    "    except:      pass\n",
    "\n",
    "mapBase.departamen = mapBase.departamen.map(acentos)\n",
    "mapBase.provincia = mapBase.provincia.map(acentos)\n",
    "# quitamos la antartida\n",
    "mapBase = mapBase.loc[(mapBase.departamen != 'Antártida Argentina')&(mapBase.departamen != 'Islas del Atlántico Sur')]"
   ]
  },
  {
   "cell_type": "code",
   "execution_count": 65,
   "metadata": {},
   "outputs": [],
   "source": [
    "simple = mapBase[['codpcia','departamen','provincia','geometry']]\n",
    "mas_simple = mapBase[['codpcia','provincia']]\n",
    "lista_codigos = mas_simple.drop_duplicates()"
   ]
  },
  {
   "cell_type": "code",
   "execution_count": 66,
   "metadata": {},
   "outputs": [],
   "source": [
    "dic_codigos = {lista_codigos.codpcia.iloc[i] : lista_codigos.provincia.iloc[i] for i in range(len(lista_codigos))}"
   ]
  },
  {
   "cell_type": "code",
   "execution_count": 67,
   "metadata": {},
   "outputs": [],
   "source": [
    "a = dic_codigos['02']"
   ]
  },
  {
   "cell_type": "code",
   "execution_count": 68,
   "metadata": {},
   "outputs": [
    {
     "data": {
      "text/plain": [
       "'Ciudad Autónoma de Buenos Aires'"
      ]
     },
     "execution_count": 68,
     "metadata": {},
     "output_type": "execute_result"
    }
   ],
   "source": [
    "a"
   ]
  },
  {
   "cell_type": "code",
   "execution_count": 69,
   "metadata": {},
   "outputs": [],
   "source": [
    "# recortamos las provincias\n",
    "provincias = mapBase.dissolve('codpcia')\n",
    "provincias = provincias.reindex(['pais','provincia','geometry'],axis=1)\n",
    "provincias['pais'] = 'Agentina'\n",
    "argentina = provincias.dissolve('pais')\n",
    "\n",
    "#recortamos el mapa de buenos aires del total argentino\n",
    "capitalMap = simple.loc[simple.codpcia == '02', :]\n",
    "gbaMap = simple.loc[simple.codpcia == '06', :]\n",
    "bsasMap = capitalMap.append(gbaMap, ignore_index=True)\n",
    "\n",
    "#estandarizamos nuestros index y eliminamos las columnas q no usaremos\n",
    "capital = capitalMap.reset_index()\n",
    "gbaMap = gbaMap.reset_index()\n",
    "bsasMap = bsasMap.reset_index()"
   ]
  },
  {
   "cell_type": "markdown",
   "metadata": {},
   "source": [
    "### en primera instancia vemos algunos puntos fuera de argentina."
   ]
  },
  {
   "cell_type": "code",
   "execution_count": 70,
   "metadata": {},
   "outputs": [],
   "source": [
    "geodf.crs = argentina.crs"
   ]
  },
  {
   "cell_type": "code",
   "execution_count": 71,
   "metadata": {},
   "outputs": [
    {
     "data": {
      "image/png": "[encoded data removed]",
      "text/plain": [
       "<Figure size 576x576 with 1 Axes>"
      ]
     },
     "metadata": {
      "needs_background": "light"
     },
     "output_type": "display_data"
    }
   ],
   "source": [
    "fig = plt.figure(figsize=(8,8))\n",
    "ax = fig.add_subplot(1,1,1)\n",
    "\n",
    "provincias.plot(ax=ax,alpha=0.4,color='white',edgecolor='black')\n",
    "argentina.plot(ax=ax,alpha=0.6,color='red')\n",
    "geodf.plot(ax=ax,color='black')\n",
    "\n",
    "ax.set_axis_off()\n",
    "plt.axis('equal')\n",
    "ax.set_title('Properatti');"
   ]
  },
  {
   "cell_type": "code",
   "execution_count": 72,
   "metadata": {},
   "outputs": [
    {
     "data": {
      "text/plain": [
       "('tardo en ejecutar', 1, 'minutos ', 11, 'segundos')"
      ]
     },
     "execution_count": 72,
     "metadata": {},
     "output_type": "execute_result"
    }
   ],
   "source": [
    "startAll = time.time()\n",
    "\n",
    "coincidencia = gpd.sjoin(geodf,argentina,how='inner')\n",
    "\n",
    "tiempo()"
   ]
  },
  {
   "cell_type": "code",
   "execution_count": 73,
   "metadata": {},
   "outputs": [
    {
     "data": {
      "text/plain": [
       "112806"
      ]
     },
     "execution_count": 73,
     "metadata": {},
     "output_type": "execute_result"
    }
   ],
   "source": [
    "len(coincidencia)"
   ]
  },
  {
   "cell_type": "code",
   "execution_count": 74,
   "metadata": {},
   "outputs": [
    {
     "name": "stdout",
     "output_type": "stream",
     "text": [
      "8414 puntos fuera de argentina.\n"
     ]
    }
   ],
   "source": [
    "print(len(geodf) - len(coincidencia),'puntos fuera de argentina.')"
   ]
  },
  {
   "cell_type": "code",
   "execution_count": 75,
   "metadata": {},
   "outputs": [],
   "source": [
    "geodf_OK = geodf.loc[coincidencia.index]"
   ]
  },
  {
   "cell_type": "code",
   "execution_count": 76,
   "metadata": {
    "scrolled": false
   },
   "outputs": [
    {
     "data": {
      "image/png": "[encoded data removed]",
      "text/plain": [
       "<Figure size 576x576 with 1 Axes>"
      ]
     },
     "metadata": {
      "needs_background": "light"
     },
     "output_type": "display_data"
    }
   ],
   "source": [
    "fig = plt.figure(figsize=(8,8))\n",
    "ax = fig.add_subplot(1,1,1)\n",
    "\n",
    "provincias.plot(ax=ax,alpha=0.4,color='white',edgecolor='black')\n",
    "argentina.plot(ax=ax,alpha=0.6,color='red')\n",
    "geodf_OK.plot(ax=ax,color='black')\n",
    "\n",
    "ax.set_axis_off()\n",
    "plt.axis('equal')\n",
    "ax.set_title('Properatti');"
   ]
  },
  {
   "cell_type": "code",
   "execution_count": 77,
   "metadata": {},
   "outputs": [
    {
     "name": "stdout",
     "output_type": "stream",
     "text": [
      "8414 registros perdidos x falta de lat-long\n"
     ]
    }
   ],
   "source": [
    "# se pierde la mitad de la base...\n",
    "print(df.shape[0] - geodf_OK.shape[0],'registros perdidos x falta de lat-long, o por no pertenecer a Argentina')"
   ]
  },
  {
   "cell_type": "code",
   "execution_count": 87,
   "metadata": {},
   "outputs": [
    {
     "data": {
      "text/plain": [
       "(121220, 25)"
      ]
     },
     "execution_count": 87,
     "metadata": {},
     "output_type": "execute_result"
    }
   ],
   "source": [
    "df.shape"
   ]
  },
  {
   "cell_type": "code",
   "execution_count": 79,
   "metadata": {},
   "outputs": [
    {
     "data": {
      "text/html": [
       "<div>\n",
       "<style scoped>\n",
       "    .dataframe tbody tr th:only-of-type {\n",
       "        vertical-align: middle;\n",
       "    }\n",
       "\n",
       "    .dataframe tbody tr th {\n",
       "        vertical-align: top;\n",
       "    }\n",
       "\n",
       "    .dataframe thead th {\n",
       "        text-align: right;\n",
       "    }\n",
       "</style>\n",
       "<table border=\"1\" class=\"dataframe\">\n",
       "  <thead>\n",
       "    <tr style=\"text-align: right;\">\n",
       "      <th></th>\n",
       "      <th>operation</th>\n",
       "      <th>property_type</th>\n",
       "      <th>place_name</th>\n",
       "      <th>place_with_parent_names</th>\n",
       "      <th>country_name</th>\n",
       "      <th>state_name</th>\n",
       "      <th>geonames_id</th>\n",
       "      <th>lat-lon</th>\n",
       "      <th>lat</th>\n",
       "      <th>lon</th>\n",
       "      <th>...</th>\n",
       "      <th>surface_covered_in_m2</th>\n",
       "      <th>price_usd_per_m2</th>\n",
       "      <th>price_per_m2</th>\n",
       "      <th>floor</th>\n",
       "      <th>rooms</th>\n",
       "      <th>expenses</th>\n",
       "      <th>properati_url</th>\n",
       "      <th>description</th>\n",
       "      <th>title</th>\n",
       "      <th>image_thumbnail</th>\n",
       "    </tr>\n",
       "  </thead>\n",
       "  <tbody>\n",
       "    <tr>\n",
       "      <th>0</th>\n",
       "      <td>sell</td>\n",
       "      <td>PH</td>\n",
       "      <td>Mataderos</td>\n",
       "      <td>|Argentina|Capital Federal|Mataderos|</td>\n",
       "      <td>Argentina</td>\n",
       "      <td>Capital Federal</td>\n",
       "      <td>3430787.0</td>\n",
       "      <td>-34.6618237,-58.5088387</td>\n",
       "      <td>-34.661824</td>\n",
       "      <td>-58.508839</td>\n",
       "      <td>...</td>\n",
       "      <td>40.0</td>\n",
       "      <td>1127.272727</td>\n",
       "      <td>1550.000000</td>\n",
       "      <td>NaN</td>\n",
       "      <td>NaN</td>\n",
       "      <td>NaN</td>\n",
       "      <td>http://www.properati.com.ar/15bo8_venta_ph_mat...</td>\n",
       "      <td>2 AMBIENTES TIPO CASA PLANTA BAJA POR PASILLO,...</td>\n",
       "      <td>2 AMB TIPO CASA SIN EXPENSAS EN PB</td>\n",
       "      <td>https://thumbs4.properati.com/8/BluUYiHJLhgIIK...</td>\n",
       "    </tr>\n",
       "    <tr>\n",
       "      <th>1</th>\n",
       "      <td>sell</td>\n",
       "      <td>apartment</td>\n",
       "      <td>La Plata</td>\n",
       "      <td>|Argentina|Bs.As. G.B.A. Zona Sur|La Plata|</td>\n",
       "      <td>Argentina</td>\n",
       "      <td>Bs.As. G.B.A. Zona Sur</td>\n",
       "      <td>3432039.0</td>\n",
       "      <td>-34.9038831,-57.9643295</td>\n",
       "      <td>-34.903883</td>\n",
       "      <td>-57.964330</td>\n",
       "      <td>...</td>\n",
       "      <td>NaN</td>\n",
       "      <td>NaN</td>\n",
       "      <td>NaN</td>\n",
       "      <td>NaN</td>\n",
       "      <td>NaN</td>\n",
       "      <td>NaN</td>\n",
       "      <td>http://www.properati.com.ar/15bob_venta_depart...</td>\n",
       "      <td>Venta de departamento en décimo piso al frente...</td>\n",
       "      <td>VENTA Depto 2 dorm. a estrenar 7 e/ 36 y 37   ...</td>\n",
       "      <td>https://thumbs4.properati.com/7/ikpVBu2ztHA7jv...</td>\n",
       "    </tr>\n",
       "    <tr>\n",
       "      <th>2</th>\n",
       "      <td>sell</td>\n",
       "      <td>apartment</td>\n",
       "      <td>Mataderos</td>\n",
       "      <td>|Argentina|Capital Federal|Mataderos|</td>\n",
       "      <td>Argentina</td>\n",
       "      <td>Capital Federal</td>\n",
       "      <td>3430787.0</td>\n",
       "      <td>-34.6522615,-58.5229825</td>\n",
       "      <td>-34.652262</td>\n",
       "      <td>-58.522982</td>\n",
       "      <td>...</td>\n",
       "      <td>55.0</td>\n",
       "      <td>1309.090909</td>\n",
       "      <td>1309.090909</td>\n",
       "      <td>NaN</td>\n",
       "      <td>NaN</td>\n",
       "      <td>NaN</td>\n",
       "      <td>http://www.properati.com.ar/15bod_venta_depart...</td>\n",
       "      <td>2 AMBIENTES 3ER PISO LATERAL LIVING COMEDOR AM...</td>\n",
       "      <td>2 AMB 3ER PISO CON ASCENSOR APTO CREDITO</td>\n",
       "      <td>https://thumbs4.properati.com/5/SXKr34F_IwG3W_...</td>\n",
       "    </tr>\n",
       "    <tr>\n",
       "      <th>3</th>\n",
       "      <td>sell</td>\n",
       "      <td>PH</td>\n",
       "      <td>Liniers</td>\n",
       "      <td>|Argentina|Capital Federal|Liniers|</td>\n",
       "      <td>Argentina</td>\n",
       "      <td>Capital Federal</td>\n",
       "      <td>3431333.0</td>\n",
       "      <td>-34.6477969,-58.5164244</td>\n",
       "      <td>-34.647797</td>\n",
       "      <td>-58.516424</td>\n",
       "      <td>...</td>\n",
       "      <td>NaN</td>\n",
       "      <td>NaN</td>\n",
       "      <td>NaN</td>\n",
       "      <td>NaN</td>\n",
       "      <td>NaN</td>\n",
       "      <td>NaN</td>\n",
       "      <td>http://www.properati.com.ar/15boh_venta_ph_lin...</td>\n",
       "      <td>PH 3 ambientes con patio. Hay 3 deptos en lote...</td>\n",
       "      <td>PH 3 amb. cfte. reciclado</td>\n",
       "      <td>https://thumbs4.properati.com/3/DgIfX-85Mog5SP...</td>\n",
       "    </tr>\n",
       "    <tr>\n",
       "      <th>4</th>\n",
       "      <td>sell</td>\n",
       "      <td>apartment</td>\n",
       "      <td>Centro</td>\n",
       "      <td>|Argentina|Buenos Aires Costa Atlántica|Mar de...</td>\n",
       "      <td>Argentina</td>\n",
       "      <td>Buenos Aires Costa Atlántica</td>\n",
       "      <td>3435548.0</td>\n",
       "      <td>-38.0026256,-57.5494468</td>\n",
       "      <td>-38.002626</td>\n",
       "      <td>-57.549447</td>\n",
       "      <td>...</td>\n",
       "      <td>35.0</td>\n",
       "      <td>1828.571429</td>\n",
       "      <td>1828.571429</td>\n",
       "      <td>NaN</td>\n",
       "      <td>NaN</td>\n",
       "      <td>NaN</td>\n",
       "      <td>http://www.properati.com.ar/15bok_venta_depart...</td>\n",
       "      <td>DEPARTAMENTO CON FANTÁSTICA ILUMINACIÓN NATURA...</td>\n",
       "      <td>DEPTO 2 AMB AL CONTRAFRENTE ZONA CENTRO/PLAZA ...</td>\n",
       "      <td>https://thumbs4.properati.com/5/xrRqlNcSI_vs-f...</td>\n",
       "    </tr>\n",
       "    <tr>\n",
       "      <th>...</th>\n",
       "      <td>...</td>\n",
       "      <td>...</td>\n",
       "      <td>...</td>\n",
       "      <td>...</td>\n",
       "      <td>...</td>\n",
       "      <td>...</td>\n",
       "      <td>...</td>\n",
       "      <td>...</td>\n",
       "      <td>...</td>\n",
       "      <td>...</td>\n",
       "      <td>...</td>\n",
       "      <td>...</td>\n",
       "      <td>...</td>\n",
       "      <td>...</td>\n",
       "      <td>...</td>\n",
       "      <td>...</td>\n",
       "      <td>...</td>\n",
       "      <td>...</td>\n",
       "      <td>...</td>\n",
       "      <td>...</td>\n",
       "      <td>...</td>\n",
       "    </tr>\n",
       "    <tr>\n",
       "      <th>121215</th>\n",
       "      <td>sell</td>\n",
       "      <td>apartment</td>\n",
       "      <td>Belgrano</td>\n",
       "      <td>|Argentina|Capital Federal|Belgrano|</td>\n",
       "      <td>Argentina</td>\n",
       "      <td>Capital Federal</td>\n",
       "      <td>3436077.0</td>\n",
       "      <td>NaN</td>\n",
       "      <td>-34.562700</td>\n",
       "      <td>-58.458290</td>\n",
       "      <td>...</td>\n",
       "      <td>93.0</td>\n",
       "      <td>7699.115044</td>\n",
       "      <td>9354.838710</td>\n",
       "      <td>NaN</td>\n",
       "      <td>NaN</td>\n",
       "      <td>10000.0</td>\n",
       "      <td>http://www.properati.com.ar/1cja2_venta_depart...</td>\n",
       "      <td>TORRE FORUM ALCORTA - MÁXIMA CATEGORÍA.Impecab...</td>\n",
       "      <td>Torre Forum Alcorta- Impecable 3 ambientes</td>\n",
       "      <td>https://thumbs4.properati.com/1/bjms0KnaAnlNoQ...</td>\n",
       "    </tr>\n",
       "    <tr>\n",
       "      <th>121216</th>\n",
       "      <td>sell</td>\n",
       "      <td>house</td>\n",
       "      <td>Beccar</td>\n",
       "      <td>|Argentina|Bs.As. G.B.A. Zona Norte|San Isidro...</td>\n",
       "      <td>Argentina</td>\n",
       "      <td>Bs.As. G.B.A. Zona Norte</td>\n",
       "      <td>3436080.0</td>\n",
       "      <td>NaN</td>\n",
       "      <td>-34.463120</td>\n",
       "      <td>-58.534810</td>\n",
       "      <td>...</td>\n",
       "      <td>360.0</td>\n",
       "      <td>1383.333333</td>\n",
       "      <td>1383.333333</td>\n",
       "      <td>NaN</td>\n",
       "      <td>NaN</td>\n",
       "      <td>NaN</td>\n",
       "      <td>http://www.properati.com.ar/1cja6_venta_casa_b...</td>\n",
       "      <td>Excelente e impecable casa en Venta en Las Lom...</td>\n",
       "      <td>Ruca Inmuebles | Venta | Lomas de San Isidro |...</td>\n",
       "      <td>https://thumbs4.properati.com/2/PCc3WuQDjpNZc4...</td>\n",
       "    </tr>\n",
       "    <tr>\n",
       "      <th>121217</th>\n",
       "      <td>sell</td>\n",
       "      <td>apartment</td>\n",
       "      <td>Villa Urquiza</td>\n",
       "      <td>|Argentina|Capital Federal|Villa Urquiza|</td>\n",
       "      <td>Argentina</td>\n",
       "      <td>Capital Federal</td>\n",
       "      <td>3433775.0</td>\n",
       "      <td>-34.5706388726,-58.4755963355</td>\n",
       "      <td>-34.570639</td>\n",
       "      <td>-58.475596</td>\n",
       "      <td>...</td>\n",
       "      <td>39.0</td>\n",
       "      <td>2858.695652</td>\n",
       "      <td>3371.794872</td>\n",
       "      <td>NaN</td>\n",
       "      <td>NaN</td>\n",
       "      <td>NaN</td>\n",
       "      <td>http://www.properati.com.ar/1cja7_venta_depart...</td>\n",
       "      <td>VENTA DEPARTAMENTO AMBIENTE DIVISIBLE A ESTREN...</td>\n",
       "      <td>VENTA DEPARTAMENTO AMBIENTE DIVISIBLE A ESTREN...</td>\n",
       "      <td>https://thumbs4.properati.com/9/YAe_-2gRVykADP...</td>\n",
       "    </tr>\n",
       "    <tr>\n",
       "      <th>121218</th>\n",
       "      <td>sell</td>\n",
       "      <td>apartment</td>\n",
       "      <td>Plaza Colón</td>\n",
       "      <td>|Argentina|Buenos Aires Costa Atlántica|Mar de...</td>\n",
       "      <td>Argentina</td>\n",
       "      <td>Buenos Aires Costa Atlántica</td>\n",
       "      <td>NaN</td>\n",
       "      <td>NaN</td>\n",
       "      <td>0.000000</td>\n",
       "      <td>0.000000</td>\n",
       "      <td>...</td>\n",
       "      <td>48.0</td>\n",
       "      <td>1997.916667</td>\n",
       "      <td>1997.916667</td>\n",
       "      <td>NaN</td>\n",
       "      <td>NaN</td>\n",
       "      <td>NaN</td>\n",
       "      <td>http://www.properati.com.ar/1cja8_venta_depart...</td>\n",
       "      <td>2 Amb al contrafrente,  luminoso. El departame...</td>\n",
       "      <td>2 amb. C/ dep. de servicio al contrafrente| Re...</td>\n",
       "      <td>https://thumbs4.properati.com/8/Q12PTvU6BQJ0ib...</td>\n",
       "    </tr>\n",
       "    <tr>\n",
       "      <th>121219</th>\n",
       "      <td>sell</td>\n",
       "      <td>apartment</td>\n",
       "      <td>Capital Federal</td>\n",
       "      <td>|Argentina|Capital Federal|</td>\n",
       "      <td>Argentina</td>\n",
       "      <td>Capital Federal</td>\n",
       "      <td>3433955.0</td>\n",
       "      <td>NaN</td>\n",
       "      <td>-34.600000</td>\n",
       "      <td>-58.450000</td>\n",
       "      <td>...</td>\n",
       "      <td>77.0</td>\n",
       "      <td>1675.324675</td>\n",
       "      <td>1675.324675</td>\n",
       "      <td>NaN</td>\n",
       "      <td>NaN</td>\n",
       "      <td>3500.0</td>\n",
       "      <td>http://www.properati.com.ar/1cjaa_venta_depart...</td>\n",
       "      <td>Departamento de 77 m2 apto profesional. Edific...</td>\n",
       "      <td>Departamento apto profesional en el Centro</td>\n",
       "      <td>https://thumbs4.properati.com/8/mNEsnQWqB7joBF...</td>\n",
       "    </tr>\n",
       "  </tbody>\n",
       "</table>\n",
       "<p>121220 rows × 25 columns</p>\n",
       "</div>"
      ],
      "text/plain": [
       "       operation property_type       place_name  \\\n",
       "0           sell            PH        Mataderos   \n",
       "1           sell     apartment         La Plata   \n",
       "2           sell     apartment        Mataderos   \n",
       "3           sell            PH          Liniers   \n",
       "4           sell     apartment           Centro   \n",
       "...          ...           ...              ...   \n",
       "121215      sell     apartment         Belgrano   \n",
       "121216      sell         house           Beccar   \n",
       "121217      sell     apartment    Villa Urquiza   \n",
       "121218      sell     apartment      Plaza Colón   \n",
       "121219      sell     apartment  Capital Federal   \n",
       "\n",
       "                                  place_with_parent_names country_name  \\\n",
       "0                   |Argentina|Capital Federal|Mataderos|    Argentina   \n",
       "1             |Argentina|Bs.As. G.B.A. Zona Sur|La Plata|    Argentina   \n",
       "2                   |Argentina|Capital Federal|Mataderos|    Argentina   \n",
       "3                     |Argentina|Capital Federal|Liniers|    Argentina   \n",
       "4       |Argentina|Buenos Aires Costa Atlántica|Mar de...    Argentina   \n",
       "...                                                   ...          ...   \n",
       "121215               |Argentina|Capital Federal|Belgrano|    Argentina   \n",
       "121216  |Argentina|Bs.As. G.B.A. Zona Norte|San Isidro...    Argentina   \n",
       "121217          |Argentina|Capital Federal|Villa Urquiza|    Argentina   \n",
       "121218  |Argentina|Buenos Aires Costa Atlántica|Mar de...    Argentina   \n",
       "121219                        |Argentina|Capital Federal|    Argentina   \n",
       "\n",
       "                          state_name  geonames_id  \\\n",
       "0                    Capital Federal    3430787.0   \n",
       "1             Bs.As. G.B.A. Zona Sur    3432039.0   \n",
       "2                    Capital Federal    3430787.0   \n",
       "3                    Capital Federal    3431333.0   \n",
       "4       Buenos Aires Costa Atlántica    3435548.0   \n",
       "...                              ...          ...   \n",
       "121215               Capital Federal    3436077.0   \n",
       "121216      Bs.As. G.B.A. Zona Norte    3436080.0   \n",
       "121217               Capital Federal    3433775.0   \n",
       "121218  Buenos Aires Costa Atlántica          NaN   \n",
       "121219               Capital Federal    3433955.0   \n",
       "\n",
       "                              lat-lon        lat        lon  ...  \\\n",
       "0             -34.6618237,-58.5088387 -34.661824 -58.508839  ...   \n",
       "1             -34.9038831,-57.9643295 -34.903883 -57.964330  ...   \n",
       "2             -34.6522615,-58.5229825 -34.652262 -58.522982  ...   \n",
       "3             -34.6477969,-58.5164244 -34.647797 -58.516424  ...   \n",
       "4             -38.0026256,-57.5494468 -38.002626 -57.549447  ...   \n",
       "...                               ...        ...        ...  ...   \n",
       "121215                            NaN -34.562700 -58.458290  ...   \n",
       "121216                            NaN -34.463120 -58.534810  ...   \n",
       "121217  -34.5706388726,-58.4755963355 -34.570639 -58.475596  ...   \n",
       "121218                            NaN   0.000000   0.000000  ...   \n",
       "121219                            NaN -34.600000 -58.450000  ...   \n",
       "\n",
       "        surface_covered_in_m2 price_usd_per_m2  price_per_m2  floor  rooms  \\\n",
       "0                        40.0      1127.272727   1550.000000    NaN    NaN   \n",
       "1                         NaN              NaN           NaN    NaN    NaN   \n",
       "2                        55.0      1309.090909   1309.090909    NaN    NaN   \n",
       "3                         NaN              NaN           NaN    NaN    NaN   \n",
       "4                        35.0      1828.571429   1828.571429    NaN    NaN   \n",
       "...                       ...              ...           ...    ...    ...   \n",
       "121215                   93.0      7699.115044   9354.838710    NaN    NaN   \n",
       "121216                  360.0      1383.333333   1383.333333    NaN    NaN   \n",
       "121217                   39.0      2858.695652   3371.794872    NaN    NaN   \n",
       "121218                   48.0      1997.916667   1997.916667    NaN    NaN   \n",
       "121219                   77.0      1675.324675   1675.324675    NaN    NaN   \n",
       "\n",
       "        expenses                                      properati_url  \\\n",
       "0            NaN  http://www.properati.com.ar/15bo8_venta_ph_mat...   \n",
       "1            NaN  http://www.properati.com.ar/15bob_venta_depart...   \n",
       "2            NaN  http://www.properati.com.ar/15bod_venta_depart...   \n",
       "3            NaN  http://www.properati.com.ar/15boh_venta_ph_lin...   \n",
       "4            NaN  http://www.properati.com.ar/15bok_venta_depart...   \n",
       "...          ...                                                ...   \n",
       "121215   10000.0  http://www.properati.com.ar/1cja2_venta_depart...   \n",
       "121216       NaN  http://www.properati.com.ar/1cja6_venta_casa_b...   \n",
       "121217       NaN  http://www.properati.com.ar/1cja7_venta_depart...   \n",
       "121218       NaN  http://www.properati.com.ar/1cja8_venta_depart...   \n",
       "121219    3500.0  http://www.properati.com.ar/1cjaa_venta_depart...   \n",
       "\n",
       "                                              description  \\\n",
       "0       2 AMBIENTES TIPO CASA PLANTA BAJA POR PASILLO,...   \n",
       "1       Venta de departamento en décimo piso al frente...   \n",
       "2       2 AMBIENTES 3ER PISO LATERAL LIVING COMEDOR AM...   \n",
       "3       PH 3 ambientes con patio. Hay 3 deptos en lote...   \n",
       "4       DEPARTAMENTO CON FANTÁSTICA ILUMINACIÓN NATURA...   \n",
       "...                                                   ...   \n",
       "121215  TORRE FORUM ALCORTA - MÁXIMA CATEGORÍA.Impecab...   \n",
       "121216  Excelente e impecable casa en Venta en Las Lom...   \n",
       "121217  VENTA DEPARTAMENTO AMBIENTE DIVISIBLE A ESTREN...   \n",
       "121218  2 Amb al contrafrente,  luminoso. El departame...   \n",
       "121219  Departamento de 77 m2 apto profesional. Edific...   \n",
       "\n",
       "                                                    title  \\\n",
       "0                      2 AMB TIPO CASA SIN EXPENSAS EN PB   \n",
       "1       VENTA Depto 2 dorm. a estrenar 7 e/ 36 y 37   ...   \n",
       "2                2 AMB 3ER PISO CON ASCENSOR APTO CREDITO   \n",
       "3                            PH 3 amb. cfte. reciclado      \n",
       "4       DEPTO 2 AMB AL CONTRAFRENTE ZONA CENTRO/PLAZA ...   \n",
       "...                                                   ...   \n",
       "121215         Torre Forum Alcorta- Impecable 3 ambientes   \n",
       "121216  Ruca Inmuebles | Venta | Lomas de San Isidro |...   \n",
       "121217  VENTA DEPARTAMENTO AMBIENTE DIVISIBLE A ESTREN...   \n",
       "121218  2 amb. C/ dep. de servicio al contrafrente| Re...   \n",
       "121219         Departamento apto profesional en el Centro   \n",
       "\n",
       "                                          image_thumbnail  \n",
       "0       https://thumbs4.properati.com/8/BluUYiHJLhgIIK...  \n",
       "1       https://thumbs4.properati.com/7/ikpVBu2ztHA7jv...  \n",
       "2       https://thumbs4.properati.com/5/SXKr34F_IwG3W_...  \n",
       "3       https://thumbs4.properati.com/3/DgIfX-85Mog5SP...  \n",
       "4       https://thumbs4.properati.com/5/xrRqlNcSI_vs-f...  \n",
       "...                                                   ...  \n",
       "121215  https://thumbs4.properati.com/1/bjms0KnaAnlNoQ...  \n",
       "121216  https://thumbs4.properati.com/2/PCc3WuQDjpNZc4...  \n",
       "121217  https://thumbs4.properati.com/9/YAe_-2gRVykADP...  \n",
       "121218  https://thumbs4.properati.com/8/Q12PTvU6BQJ0ib...  \n",
       "121219  https://thumbs4.properati.com/8/mNEsnQWqB7joBF...  \n",
       "\n",
       "[121220 rows x 25 columns]"
      ]
     },
     "execution_count": 79,
     "metadata": {},
     "output_type": "execute_result"
    }
   ],
   "source": [
    "df"
   ]
  },
  {
   "cell_type": "code",
   "execution_count": 80,
   "metadata": {},
   "outputs": [
    {
     "data": {
      "text/plain": [
       "1061"
      ]
     },
     "execution_count": 80,
     "metadata": {},
     "output_type": "execute_result"
    }
   ],
   "source": [
    "len(df.place_name.unique())"
   ]
  },
  {
   "cell_type": "code",
   "execution_count": 81,
   "metadata": {},
   "outputs": [
    {
     "data": {
      "text/plain": [
       "4"
      ]
     },
     "execution_count": 81,
     "metadata": {},
     "output_type": "execute_result"
    }
   ],
   "source": [
    "len(df.property_type.unique())"
   ]
  },
  {
   "cell_type": "code",
   "execution_count": 86,
   "metadata": {},
   "outputs": [
    {
     "data": {
      "text/html": [
       "<div>\n",
       "<style scoped>\n",
       "    .dataframe tbody tr th:only-of-type {\n",
       "        vertical-align: middle;\n",
       "    }\n",
       "\n",
       "    .dataframe tbody tr th {\n",
       "        vertical-align: top;\n",
       "    }\n",
       "\n",
       "    .dataframe thead th {\n",
       "        text-align: right;\n",
       "    }\n",
       "</style>\n",
       "<table border=\"1\" class=\"dataframe\">\n",
       "  <thead>\n",
       "    <tr style=\"text-align: right;\">\n",
       "      <th></th>\n",
       "      <th>PH</th>\n",
       "      <th>apartment</th>\n",
       "      <th>house</th>\n",
       "      <th>store</th>\n",
       "    </tr>\n",
       "  </thead>\n",
       "  <tbody>\n",
       "    <tr>\n",
       "      <th>0</th>\n",
       "      <td>1</td>\n",
       "      <td>0</td>\n",
       "      <td>0</td>\n",
       "      <td>0</td>\n",
       "    </tr>\n",
       "    <tr>\n",
       "      <th>1</th>\n",
       "      <td>0</td>\n",
       "      <td>1</td>\n",
       "      <td>0</td>\n",
       "      <td>0</td>\n",
       "    </tr>\n",
       "    <tr>\n",
       "      <th>2</th>\n",
       "      <td>0</td>\n",
       "      <td>1</td>\n",
       "      <td>0</td>\n",
       "      <td>0</td>\n",
       "    </tr>\n",
       "    <tr>\n",
       "      <th>3</th>\n",
       "      <td>1</td>\n",
       "      <td>0</td>\n",
       "      <td>0</td>\n",
       "      <td>0</td>\n",
       "    </tr>\n",
       "    <tr>\n",
       "      <th>4</th>\n",
       "      <td>0</td>\n",
       "      <td>1</td>\n",
       "      <td>0</td>\n",
       "      <td>0</td>\n",
       "    </tr>\n",
       "    <tr>\n",
       "      <th>...</th>\n",
       "      <td>...</td>\n",
       "      <td>...</td>\n",
       "      <td>...</td>\n",
       "      <td>...</td>\n",
       "    </tr>\n",
       "    <tr>\n",
       "      <th>121215</th>\n",
       "      <td>0</td>\n",
       "      <td>1</td>\n",
       "      <td>0</td>\n",
       "      <td>0</td>\n",
       "    </tr>\n",
       "    <tr>\n",
       "      <th>121216</th>\n",
       "      <td>0</td>\n",
       "      <td>0</td>\n",
       "      <td>1</td>\n",
       "      <td>0</td>\n",
       "    </tr>\n",
       "    <tr>\n",
       "      <th>121217</th>\n",
       "      <td>0</td>\n",
       "      <td>1</td>\n",
       "      <td>0</td>\n",
       "      <td>0</td>\n",
       "    </tr>\n",
       "    <tr>\n",
       "      <th>121218</th>\n",
       "      <td>0</td>\n",
       "      <td>1</td>\n",
       "      <td>0</td>\n",
       "      <td>0</td>\n",
       "    </tr>\n",
       "    <tr>\n",
       "      <th>121219</th>\n",
       "      <td>0</td>\n",
       "      <td>1</td>\n",
       "      <td>0</td>\n",
       "      <td>0</td>\n",
       "    </tr>\n",
       "  </tbody>\n",
       "</table>\n",
       "<p>121220 rows × 4 columns</p>\n",
       "</div>"
      ],
      "text/plain": [
       "        PH  apartment  house  store\n",
       "0        1          0      0      0\n",
       "1        0          1      0      0\n",
       "2        0          1      0      0\n",
       "3        1          0      0      0\n",
       "4        0          1      0      0\n",
       "...     ..        ...    ...    ...\n",
       "121215   0          1      0      0\n",
       "121216   0          0      1      0\n",
       "121217   0          1      0      0\n",
       "121218   0          1      0      0\n",
       "121219   0          1      0      0\n",
       "\n",
       "[121220 rows x 4 columns]"
      ]
     },
     "execution_count": 86,
     "metadata": {},
     "output_type": "execute_result"
    }
   ],
   "source": [
    "pd.get_dummies(df.property_type)"
   ]
  },
  {
   "cell_type": "code",
   "execution_count": null,
   "metadata": {},
   "outputs": [],
   "source": []
  }
 ],
 "metadata": {
  "kernelspec": {
   "display_name": "Python 3",
   "language": "python",
   "name": "python3"
  },
  "language_info": {
   "codemirror_mode": {
    "name": "ipython",
    "version": 3
   },
   "file_extension": ".py",
   "mimetype": "text/x-python",
   "name": "python",
   "nbconvert_exporter": "python",
   "pygments_lexer": "ipython3",
   "version": "3.7.4"
  }
 },
 "nbformat": 4,
 "nbformat_minor": 2
}
