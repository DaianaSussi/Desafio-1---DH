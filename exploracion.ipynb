{
 "cells": [
  {
   "cell_type": "code",
   "execution_count": 1,
   "metadata": {},
   "outputs": [
    {
     "name": "stderr",
     "output_type": "stream",
     "text": [
      "\n",
      "Bad key \"text.kerning_factor\" on line 4 in\n",
      "C:\\Users\\Manu\\Anaconda3\\envs\\manu\\lib\\site-packages\\matplotlib\\mpl-data\\stylelib\\_classic_test_patch.mplstyle.\n",
      "You probably need to get an updated matplotlibrc file from\n",
      "https://github.com/matplotlib/matplotlib/blob/v3.1.3/matplotlibrc.template\n",
      "or from the matplotlib source distribution\n"
     ]
    }
   ],
   "source": [
    "import numpy as np              ;   import pandas as pd\n",
    "import geopandas as gpd         ;   from shapely.geometry import Polygon, Point, LineString\n",
    "import shapely as sp            ;   import matplotlib.pyplot as plt\n",
    "import time                     ;   import unidecode\n",
    "import re\n",
    "\n",
    "startAll = time.time()\n",
    "def t():\n",
    "    global start\n",
    "    start = time.time()\n",
    "def tt():\n",
    "    end = time.time() ; minutos = int(round(end - start)/60) ; segundos = int(round(end - start)-(int(round(end - start)/60))*60) ;     tiempo = 'Esta celda tardo en ejecutar: '+str(minutos)+' minutos, '+str(segundos)+' segundos.' ;\n",
    "    return tiempo\n",
    "def tiempo():\n",
    "    endAll = time.time() ; minutos = int(round(endAll - startAll)/60) ; segundos = int(round(endAll - startAll)-(int(round(endAll - startAll)/60))*60) ;     tiempo = 'Desde el inicio, tardo en ejecutar: '+str(minutos)+' minutos, '+str(segundos)+' segundos.' ;\n",
    "    return tiempo"
   ]
  },
  {
   "cell_type": "markdown",
   "metadata": {},
   "source": [
    "# PROPERATTI DATABASE"
   ]
  },
  {
   "cell_type": "code",
   "execution_count": 2,
   "metadata": {},
   "outputs": [
    {
     "data": {
      "text/plain": [
       "(121220, 25)"
      ]
     },
     "execution_count": 2,
     "metadata": {},
     "output_type": "execute_result"
    }
   ],
   "source": [
    "df = pd.read_csv('properatti.csv',sep=',',index_col=0)\n",
    "df.shape"
   ]
  },
  {
   "cell_type": "code",
   "execution_count": 3,
   "metadata": {},
   "outputs": [
    {
     "data": {
      "text/plain": [
       "1061"
      ]
     },
     "execution_count": 3,
     "metadata": {},
     "output_type": "execute_result"
    }
   ],
   "source": [
    "len(df.place_name.unique())"
   ]
  },
  {
   "cell_type": "code",
   "execution_count": 4,
   "metadata": {
    "scrolled": true
   },
   "outputs": [
    {
     "data": {
      "text/plain": [
       "4"
      ]
     },
     "execution_count": 4,
     "metadata": {},
     "output_type": "execute_result"
    }
   ],
   "source": [
    "len(df.property_type.unique())"
   ]
  },
  {
   "cell_type": "code",
   "execution_count": 5,
   "metadata": {},
   "outputs": [
    {
     "data": {
      "text/html": [
       "<div>\n",
       "<style scoped>\n",
       "    .dataframe tbody tr th:only-of-type {\n",
       "        vertical-align: middle;\n",
       "    }\n",
       "\n",
       "    .dataframe tbody tr th {\n",
       "        vertical-align: top;\n",
       "    }\n",
       "\n",
       "    .dataframe thead th {\n",
       "        text-align: right;\n",
       "    }\n",
       "</style>\n",
       "<table border=\"1\" class=\"dataframe\">\n",
       "  <thead>\n",
       "    <tr style=\"text-align: right;\">\n",
       "      <th></th>\n",
       "      <th>operation</th>\n",
       "      <th>property_type</th>\n",
       "      <th>place_name</th>\n",
       "      <th>place_with_parent_names</th>\n",
       "      <th>country_name</th>\n",
       "      <th>state_name</th>\n",
       "      <th>geonames_id</th>\n",
       "      <th>lat-lon</th>\n",
       "      <th>lat</th>\n",
       "      <th>lon</th>\n",
       "      <th>...</th>\n",
       "      <th>surface_covered_in_m2</th>\n",
       "      <th>price_usd_per_m2</th>\n",
       "      <th>price_per_m2</th>\n",
       "      <th>floor</th>\n",
       "      <th>rooms</th>\n",
       "      <th>expenses</th>\n",
       "      <th>properati_url</th>\n",
       "      <th>description</th>\n",
       "      <th>title</th>\n",
       "      <th>image_thumbnail</th>\n",
       "    </tr>\n",
       "  </thead>\n",
       "  <tbody>\n",
       "    <tr>\n",
       "      <th>0</th>\n",
       "      <td>sell</td>\n",
       "      <td>PH</td>\n",
       "      <td>Mataderos</td>\n",
       "      <td>|Argentina|Capital Federal|Mataderos|</td>\n",
       "      <td>Argentina</td>\n",
       "      <td>Capital Federal</td>\n",
       "      <td>3430787.0</td>\n",
       "      <td>-34.6618237,-58.5088387</td>\n",
       "      <td>-34.661824</td>\n",
       "      <td>-58.508839</td>\n",
       "      <td>...</td>\n",
       "      <td>40.0</td>\n",
       "      <td>1127.272727</td>\n",
       "      <td>1550.0</td>\n",
       "      <td>NaN</td>\n",
       "      <td>NaN</td>\n",
       "      <td>NaN</td>\n",
       "      <td>http://www.properati.com.ar/15bo8_venta_ph_mat...</td>\n",
       "      <td>2 AMBIENTES TIPO CASA PLANTA BAJA POR PASILLO,...</td>\n",
       "      <td>2 AMB TIPO CASA SIN EXPENSAS EN PB</td>\n",
       "      <td>https://thumbs4.properati.com/8/BluUYiHJLhgIIK...</td>\n",
       "    </tr>\n",
       "    <tr>\n",
       "      <th>1</th>\n",
       "      <td>sell</td>\n",
       "      <td>apartment</td>\n",
       "      <td>La Plata</td>\n",
       "      <td>|Argentina|Bs.As. G.B.A. Zona Sur|La Plata|</td>\n",
       "      <td>Argentina</td>\n",
       "      <td>Bs.As. G.B.A. Zona Sur</td>\n",
       "      <td>3432039.0</td>\n",
       "      <td>-34.9038831,-57.9643295</td>\n",
       "      <td>-34.903883</td>\n",
       "      <td>-57.964330</td>\n",
       "      <td>...</td>\n",
       "      <td>NaN</td>\n",
       "      <td>NaN</td>\n",
       "      <td>NaN</td>\n",
       "      <td>NaN</td>\n",
       "      <td>NaN</td>\n",
       "      <td>NaN</td>\n",
       "      <td>http://www.properati.com.ar/15bob_venta_depart...</td>\n",
       "      <td>Venta de departamento en décimo piso al frente...</td>\n",
       "      <td>VENTA Depto 2 dorm. a estrenar 7 e/ 36 y 37   ...</td>\n",
       "      <td>https://thumbs4.properati.com/7/ikpVBu2ztHA7jv...</td>\n",
       "    </tr>\n",
       "  </tbody>\n",
       "</table>\n",
       "<p>2 rows × 25 columns</p>\n",
       "</div>"
      ],
      "text/plain": [
       "  operation property_type place_name  \\\n",
       "0      sell            PH  Mataderos   \n",
       "1      sell     apartment   La Plata   \n",
       "\n",
       "                       place_with_parent_names country_name  \\\n",
       "0        |Argentina|Capital Federal|Mataderos|    Argentina   \n",
       "1  |Argentina|Bs.As. G.B.A. Zona Sur|La Plata|    Argentina   \n",
       "\n",
       "               state_name  geonames_id                  lat-lon        lat  \\\n",
       "0         Capital Federal    3430787.0  -34.6618237,-58.5088387 -34.661824   \n",
       "1  Bs.As. G.B.A. Zona Sur    3432039.0  -34.9038831,-57.9643295 -34.903883   \n",
       "\n",
       "         lon  ...  surface_covered_in_m2 price_usd_per_m2  price_per_m2  \\\n",
       "0 -58.508839  ...                   40.0      1127.272727        1550.0   \n",
       "1 -57.964330  ...                    NaN              NaN           NaN   \n",
       "\n",
       "   floor  rooms  expenses                                      properati_url  \\\n",
       "0    NaN    NaN       NaN  http://www.properati.com.ar/15bo8_venta_ph_mat...   \n",
       "1    NaN    NaN       NaN  http://www.properati.com.ar/15bob_venta_depart...   \n",
       "\n",
       "                                         description  \\\n",
       "0  2 AMBIENTES TIPO CASA PLANTA BAJA POR PASILLO,...   \n",
       "1  Venta de departamento en décimo piso al frente...   \n",
       "\n",
       "                                               title  \\\n",
       "0                 2 AMB TIPO CASA SIN EXPENSAS EN PB   \n",
       "1  VENTA Depto 2 dorm. a estrenar 7 e/ 36 y 37   ...   \n",
       "\n",
       "                                     image_thumbnail  \n",
       "0  https://thumbs4.properati.com/8/BluUYiHJLhgIIK...  \n",
       "1  https://thumbs4.properati.com/7/ikpVBu2ztHA7jv...  \n",
       "\n",
       "[2 rows x 25 columns]"
      ]
     },
     "execution_count": 5,
     "metadata": {},
     "output_type": "execute_result"
    }
   ],
   "source": [
    "df.head(2)"
   ]
  },
  {
   "cell_type": "markdown",
   "metadata": {},
   "source": [
    "# LLAVE UNICA\n",
    "se encuentra en la direccion URL un codigo embebido que distingue cada registro individualmente"
   ]
  },
  {
   "cell_type": "code",
   "execution_count": 6,
   "metadata": {},
   "outputs": [],
   "source": [
    "def get_codigo(data):\n",
    "    data = data.strip('http://www.properati.com.ar/')\n",
    "    return data.split('_')[0]"
   ]
  },
  {
   "cell_type": "code",
   "execution_count": 7,
   "metadata": {},
   "outputs": [
    {
     "data": {
      "text/plain": [
       "(121220, 25)"
      ]
     },
     "execution_count": 7,
     "metadata": {},
     "output_type": "execute_result"
    }
   ],
   "source": [
    "df.shape"
   ]
  },
  {
   "cell_type": "code",
   "execution_count": 8,
   "metadata": {},
   "outputs": [
    {
     "data": {
      "text/plain": [
       "121220"
      ]
     },
     "execution_count": 8,
     "metadata": {},
     "output_type": "execute_result"
    }
   ],
   "source": [
    "len(df.properati_url.unique())"
   ]
  },
  {
   "cell_type": "code",
   "execution_count": null,
   "metadata": {},
   "outputs": [],
   "source": []
  },
  {
   "cell_type": "code",
   "execution_count": 9,
   "metadata": {},
   "outputs": [],
   "source": [
    "df['id'] = df.properati_url.map(get_codigo)"
   ]
  },
  {
   "cell_type": "code",
   "execution_count": 10,
   "metadata": {},
   "outputs": [
    {
     "data": {
      "text/plain": [
       "121220"
      ]
     },
     "execution_count": 10,
     "metadata": {},
     "output_type": "execute_result"
    }
   ],
   "source": [
    "len(df.id.unique())"
   ]
  },
  {
   "cell_type": "code",
   "execution_count": 11,
   "metadata": {},
   "outputs": [
    {
     "data": {
      "text/plain": [
       "True"
      ]
     },
     "execution_count": 11,
     "metadata": {},
     "output_type": "execute_result"
    }
   ],
   "source": [
    "# todos son valores unicos\n",
    "df.shape[0] == len(df.id.unique())"
   ]
  },
  {
   "cell_type": "markdown",
   "metadata": {},
   "source": [
    "# MISSING DATA"
   ]
  },
  {
   "cell_type": "code",
   "execution_count": 12,
   "metadata": {},
   "outputs": [
    {
     "data": {
      "text/plain": [
       "place_name                        23\n",
       "geonames_id                    18717\n",
       "lat-lon                        51550\n",
       "lat                            51550\n",
       "lon                            51550\n",
       "price                          20410\n",
       "currency                       20411\n",
       "price_aprox_local_currency     20410\n",
       "price_aprox_usd                20410\n",
       "surface_total_in_m2            39328\n",
       "surface_covered_in_m2          19907\n",
       "price_usd_per_m2               52603\n",
       "price_per_m2                   33562\n",
       "floor                         113321\n",
       "rooms                          73830\n",
       "expenses                      106958\n",
       "description                        2\n",
       "image_thumbnail                 3112\n",
       "dtype: int64"
      ]
     },
     "execution_count": 12,
     "metadata": {},
     "output_type": "execute_result"
    }
   ],
   "source": [
    "# vemos el total de nulos del dataset\n",
    "df.isna().sum()[df.isna().sum()>0]"
   ]
  },
  {
   "cell_type": "markdown",
   "metadata": {},
   "source": [
    "# MISSING GEO-DATA"
   ]
  },
  {
   "cell_type": "code",
   "execution_count": 13,
   "metadata": {},
   "outputs": [
    {
     "data": {
      "text/plain": [
       "place_name        23\n",
       "geonames_id    18717\n",
       "lat-lon        51550\n",
       "lat            51550\n",
       "lon            51550\n",
       "dtype: int64"
      ]
     },
     "execution_count": 13,
     "metadata": {},
     "output_type": "execute_result"
    }
   ],
   "source": [
    "# vemos que los faltantes de geolocalización no coinciden, asique hay esperanzas...\n",
    "df.isna().sum()[df.isna().sum()>0][['place_name','geonames_id','lat-lon','lat','lon']]"
   ]
  },
  {
   "cell_type": "code",
   "execution_count": 14,
   "metadata": {},
   "outputs": [
    {
     "name": "stderr",
     "output_type": "stream",
     "text": [
      "C:\\Users\\Manu\\Anaconda3\\envs\\manu\\lib\\site-packages\\pandas\\core\\indexing.py:671: SettingWithCopyWarning: \n",
      "A value is trying to be set on a copy of a slice from a DataFrame\n",
      "\n",
      "See the caveats in the documentation: https://pandas.pydata.org/pandas-docs/stable/user_guide/indexing.html#returning-a-view-versus-a-copy\n",
      "  self._setitem_with_indexer(indexer, value)\n"
     ]
    }
   ],
   "source": [
    "# generamos una columna para luego discriminar las geometrias recibidas de las conseguidas\n",
    "df['geo_ok'] = 0\n",
    "\n",
    "for i in range(len(df)):\n",
    "    if ~np.isnan(df.lat.iloc[i]):\n",
    "        df.geo_ok.iloc[i] = 1"
   ]
  },
  {
   "cell_type": "code",
   "execution_count": 15,
   "metadata": {},
   "outputs": [
    {
     "data": {
      "text/html": [
       "<div>\n",
       "<style scoped>\n",
       "    .dataframe tbody tr th:only-of-type {\n",
       "        vertical-align: middle;\n",
       "    }\n",
       "\n",
       "    .dataframe tbody tr th {\n",
       "        vertical-align: top;\n",
       "    }\n",
       "\n",
       "    .dataframe thead th {\n",
       "        text-align: right;\n",
       "    }\n",
       "</style>\n",
       "<table border=\"1\" class=\"dataframe\">\n",
       "  <thead>\n",
       "    <tr style=\"text-align: right;\">\n",
       "      <th></th>\n",
       "      <th>place_name</th>\n",
       "      <th>geonames_id</th>\n",
       "      <th>lat-lon</th>\n",
       "      <th>lat</th>\n",
       "      <th>lon</th>\n",
       "    </tr>\n",
       "  </thead>\n",
       "  <tbody>\n",
       "    <tr>\n",
       "      <th>6287</th>\n",
       "      <td>Olivos</td>\n",
       "      <td>3430310.0</td>\n",
       "      <td>NaN</td>\n",
       "      <td>NaN</td>\n",
       "      <td>NaN</td>\n",
       "    </tr>\n",
       "    <tr>\n",
       "      <th>33286</th>\n",
       "      <td>Capital Federal</td>\n",
       "      <td>3433955.0</td>\n",
       "      <td>NaN</td>\n",
       "      <td>NaN</td>\n",
       "      <td>NaN</td>\n",
       "    </tr>\n",
       "    <tr>\n",
       "      <th>104708</th>\n",
       "      <td>Tigre</td>\n",
       "      <td>3427753.0</td>\n",
       "      <td>NaN</td>\n",
       "      <td>NaN</td>\n",
       "      <td>NaN</td>\n",
       "    </tr>\n",
       "    <tr>\n",
       "      <th>66803</th>\n",
       "      <td>Tigre</td>\n",
       "      <td>3427753.0</td>\n",
       "      <td>NaN</td>\n",
       "      <td>NaN</td>\n",
       "      <td>NaN</td>\n",
       "    </tr>\n",
       "    <tr>\n",
       "      <th>98063</th>\n",
       "      <td>Rosario</td>\n",
       "      <td>3838574.0</td>\n",
       "      <td>NaN</td>\n",
       "      <td>NaN</td>\n",
       "      <td>NaN</td>\n",
       "    </tr>\n",
       "  </tbody>\n",
       "</table>\n",
       "</div>"
      ],
      "text/plain": [
       "             place_name  geonames_id lat-lon  lat  lon\n",
       "6287             Olivos    3430310.0     NaN  NaN  NaN\n",
       "33286   Capital Federal    3433955.0     NaN  NaN  NaN\n",
       "104708            Tigre    3427753.0     NaN  NaN  NaN\n",
       "66803             Tigre    3427753.0     NaN  NaN  NaN\n",
       "98063           Rosario    3838574.0     NaN  NaN  NaN"
      ]
     },
     "execution_count": 15,
     "metadata": {},
     "output_type": "execute_result"
    }
   ],
   "source": [
    "# vemos registros sin lat-long pero con geonames_id, recuperaremos ese lat-long\n",
    "df[df['lat-lon'].isnull()][['place_name','geonames_id','lat-lon','lat','lon']].sample(5)"
   ]
  },
  {
   "cell_type": "code",
   "execution_count": 16,
   "metadata": {},
   "outputs": [],
   "source": [
    "# preparamos los nombres de las columnas segun la documentacion\n",
    "names = ['geonameid','name','asciiname','alternatenames','latitude','longitude','feature_class','feature_code','country_code','cc2','admin1_code','admin2_code','admin3_code','admin4_code','population','elevation','dem','timezone','modification_date']\n",
    "# leemos el dataframe\n",
    "geoNames = pd.read_csv('geonames_id/AR/AR_copia.csv',error_bad_lines=False,sep=';',header=None,names=names)"
   ]
  },
  {
   "cell_type": "code",
   "execution_count": 17,
   "metadata": {},
   "outputs": [
    {
     "data": {
      "text/html": [
       "<div>\n",
       "<style scoped>\n",
       "    .dataframe tbody tr th:only-of-type {\n",
       "        vertical-align: middle;\n",
       "    }\n",
       "\n",
       "    .dataframe tbody tr th {\n",
       "        vertical-align: top;\n",
       "    }\n",
       "\n",
       "    .dataframe thead th {\n",
       "        text-align: right;\n",
       "    }\n",
       "</style>\n",
       "<table border=\"1\" class=\"dataframe\">\n",
       "  <thead>\n",
       "    <tr style=\"text-align: right;\">\n",
       "      <th></th>\n",
       "      <th>geonameid</th>\n",
       "      <th>name</th>\n",
       "      <th>asciiname</th>\n",
       "      <th>alternatenames</th>\n",
       "      <th>latitude</th>\n",
       "      <th>longitude</th>\n",
       "      <th>feature_class</th>\n",
       "      <th>feature_code</th>\n",
       "      <th>country_code</th>\n",
       "      <th>cc2</th>\n",
       "      <th>admin1_code</th>\n",
       "      <th>admin2_code</th>\n",
       "      <th>admin3_code</th>\n",
       "      <th>admin4_code</th>\n",
       "      <th>population</th>\n",
       "      <th>elevation</th>\n",
       "      <th>dem</th>\n",
       "      <th>timezone</th>\n",
       "      <th>modification_date</th>\n",
       "    </tr>\n",
       "  </thead>\n",
       "  <tbody>\n",
       "    <tr>\n",
       "      <th>35384</th>\n",
       "      <td>3858111</td>\n",
       "      <td>El Durazno</td>\n",
       "      <td>El Durazno</td>\n",
       "      <td>NaN</td>\n",
       "      <td>-29.58333</td>\n",
       "      <td>-63.18333</td>\n",
       "      <td>L</td>\n",
       "      <td>LCTY</td>\n",
       "      <td>AR</td>\n",
       "      <td>NaN</td>\n",
       "      <td>22.0</td>\n",
       "      <td>NaN</td>\n",
       "      <td>NaN</td>\n",
       "      <td>NaN</td>\n",
       "      <td>0</td>\n",
       "      <td>NaN</td>\n",
       "      <td>85</td>\n",
       "      <td>America/Argentina/Cordoba</td>\n",
       "      <td>1993-12-21</td>\n",
       "    </tr>\n",
       "    <tr>\n",
       "      <th>24609</th>\n",
       "      <td>3847309</td>\n",
       "      <td>Estancia La Vasconia</td>\n",
       "      <td>Estancia La Vasconia</td>\n",
       "      <td>NaN</td>\n",
       "      <td>-43.80589</td>\n",
       "      <td>-65.41437</td>\n",
       "      <td>S</td>\n",
       "      <td>RNCH</td>\n",
       "      <td>AR</td>\n",
       "      <td>NaN</td>\n",
       "      <td>4.0</td>\n",
       "      <td>26028.0</td>\n",
       "      <td>NaN</td>\n",
       "      <td>NaN</td>\n",
       "      <td>0</td>\n",
       "      <td>NaN</td>\n",
       "      <td>196</td>\n",
       "      <td>America/Argentina/Catamarca</td>\n",
       "      <td>2016-01-30</td>\n",
       "    </tr>\n",
       "  </tbody>\n",
       "</table>\n",
       "</div>"
      ],
      "text/plain": [
       "       geonameid                  name             asciiname alternatenames  \\\n",
       "35384    3858111            El Durazno            El Durazno            NaN   \n",
       "24609    3847309  Estancia La Vasconia  Estancia La Vasconia            NaN   \n",
       "\n",
       "       latitude  longitude feature_class feature_code country_code  cc2  \\\n",
       "35384 -29.58333  -63.18333             L         LCTY           AR  NaN   \n",
       "24609 -43.80589  -65.41437             S         RNCH           AR  NaN   \n",
       "\n",
       "       admin1_code  admin2_code  admin3_code  admin4_code  population  \\\n",
       "35384         22.0          NaN          NaN          NaN           0   \n",
       "24609          4.0      26028.0          NaN          NaN           0   \n",
       "\n",
       "       elevation  dem                     timezone modification_date  \n",
       "35384        NaN   85    America/Argentina/Cordoba        1993-12-21  \n",
       "24609        NaN  196  America/Argentina/Catamarca        2016-01-30  "
      ]
     },
     "execution_count": 17,
     "metadata": {},
     "output_type": "execute_result"
    }
   ],
   "source": [
    "geoNames.sample(2)"
   ]
  },
  {
   "cell_type": "code",
   "execution_count": 18,
   "metadata": {},
   "outputs": [
    {
     "data": {
      "text/html": [
       "<div>\n",
       "<style scoped>\n",
       "    .dataframe tbody tr th:only-of-type {\n",
       "        vertical-align: middle;\n",
       "    }\n",
       "\n",
       "    .dataframe tbody tr th {\n",
       "        vertical-align: top;\n",
       "    }\n",
       "\n",
       "    .dataframe thead th {\n",
       "        text-align: right;\n",
       "    }\n",
       "</style>\n",
       "<table border=\"1\" class=\"dataframe\">\n",
       "  <thead>\n",
       "    <tr style=\"text-align: right;\">\n",
       "      <th></th>\n",
       "      <th>geonameid</th>\n",
       "      <th>name</th>\n",
       "      <th>asciiname</th>\n",
       "      <th>alternatenames</th>\n",
       "      <th>latitude</th>\n",
       "      <th>longitude</th>\n",
       "      <th>feature_class</th>\n",
       "      <th>feature_code</th>\n",
       "      <th>country_code</th>\n",
       "      <th>cc2</th>\n",
       "      <th>admin1_code</th>\n",
       "      <th>admin2_code</th>\n",
       "      <th>admin3_code</th>\n",
       "      <th>admin4_code</th>\n",
       "      <th>population</th>\n",
       "      <th>elevation</th>\n",
       "      <th>dem</th>\n",
       "      <th>timezone</th>\n",
       "      <th>modification_date</th>\n",
       "    </tr>\n",
       "  </thead>\n",
       "  <tbody>\n",
       "    <tr>\n",
       "      <th>257</th>\n",
       "      <td>3427458</td>\n",
       "      <td>Villa Crespo</td>\n",
       "      <td>Villa Crespo</td>\n",
       "      <td>Vilja Krespas,Villa Crespo,ビジャ・クレスポ</td>\n",
       "      <td>-34.60001</td>\n",
       "      <td>-58.44735</td>\n",
       "      <td>P</td>\n",
       "      <td>PPLX</td>\n",
       "      <td>AR</td>\n",
       "      <td>NaN</td>\n",
       "      <td>7.0</td>\n",
       "      <td>2015.0</td>\n",
       "      <td>NaN</td>\n",
       "      <td>NaN</td>\n",
       "      <td>0</td>\n",
       "      <td>NaN</td>\n",
       "      <td>16</td>\n",
       "      <td>America/Argentina/Buenos_Aires</td>\n",
       "      <td>2017-05-08</td>\n",
       "    </tr>\n",
       "  </tbody>\n",
       "</table>\n",
       "</div>"
      ],
      "text/plain": [
       "     geonameid          name     asciiname  \\\n",
       "257    3427458  Villa Crespo  Villa Crespo   \n",
       "\n",
       "                          alternatenames  latitude  longitude feature_class  \\\n",
       "257  Vilja Krespas,Villa Crespo,ビジャ・クレスポ -34.60001  -58.44735             P   \n",
       "\n",
       "    feature_code country_code  cc2  admin1_code  admin2_code  admin3_code  \\\n",
       "257         PPLX           AR  NaN          7.0       2015.0          NaN   \n",
       "\n",
       "     admin4_code  population  elevation  dem                        timezone  \\\n",
       "257          NaN           0        NaN   16  America/Argentina/Buenos_Aires   \n",
       "\n",
       "    modification_date  \n",
       "257        2017-05-08  "
      ]
     },
     "execution_count": 18,
     "metadata": {},
     "output_type": "execute_result"
    }
   ],
   "source": [
    "# testing\n",
    "geoNames.loc[geoNames.geonameid == 3427458]"
   ]
  },
  {
   "cell_type": "code",
   "execution_count": 19,
   "metadata": {},
   "outputs": [
    {
     "data": {
      "text/plain": [
       "(49677, 19)"
      ]
     },
     "execution_count": 19,
     "metadata": {},
     "output_type": "execute_result"
    }
   ],
   "source": [
    "geoNames.shape"
   ]
  },
  {
   "cell_type": "code",
   "execution_count": 20,
   "metadata": {},
   "outputs": [
    {
     "data": {
      "text/plain": [
       "49677"
      ]
     },
     "execution_count": 20,
     "metadata": {},
     "output_type": "execute_result"
    }
   ],
   "source": [
    "len(geoNames.geonameid.unique())"
   ]
  },
  {
   "cell_type": "code",
   "execution_count": 21,
   "metadata": {},
   "outputs": [
    {
     "data": {
      "text/plain": [
       "35223"
      ]
     },
     "execution_count": 21,
     "metadata": {},
     "output_type": "execute_result"
    }
   ],
   "source": [
    "len(geoNames.name.unique())"
   ]
  },
  {
   "cell_type": "code",
   "execution_count": null,
   "metadata": {},
   "outputs": [],
   "source": []
  },
  {
   "cell_type": "code",
   "execution_count": null,
   "metadata": {},
   "outputs": [],
   "source": []
  },
  {
   "cell_type": "code",
   "execution_count": 22,
   "metadata": {},
   "outputs": [],
   "source": [
    "# diccionario para localizar geoNames con ID\n",
    "geo_dic_ID = {geoNames.geonameid.iloc[i] : [geoNames.latitude.iloc[i] , geoNames.longitude.iloc[i]] for i in range(len(geoNames))}\n",
    "# diccionario para localizar geoNames con name\n",
    "geo_dic_name = {geoNames.name.iloc[i] : [geoNames.latitude.iloc[i] , geoNames.longitude.iloc[i]] for i in range(len(geoNames))}"
   ]
  },
  {
   "cell_type": "code",
   "execution_count": 23,
   "metadata": {},
   "outputs": [
    {
     "name": "stdout",
     "output_type": "stream",
     "text": [
      "donde falta lat-lon, lat tiene: [nan]\n",
      "donde falta lat-lon, lon tiene: [nan]\n",
      "\n",
      "donde falta lat, lat-lon tiene: [nan]\n",
      "donde falta lon, lat-lon tiene: [nan]\n"
     ]
    }
   ],
   "source": [
    "# en todos los casos que no tenemos lat-lon no tenemos ni lat ni lon...\n",
    "print('donde falta lat-lon, lat tiene:',df.loc[df['lat-lon'].isnull()].lat.unique()) ; print('donde falta lat-lon, lon tiene:',df.loc[df['lat-lon'].isnull()].lon.unique())\n",
    "print('')\n",
    "# en todos los casos que no tenemos lat ni lon no tenemos lat-lon...\n",
    "print('donde falta lat, lat-lon tiene:',df.loc[df['lat'].isnull()]['lat-lon'].unique()) ; print('donde falta lon, lat-lon tiene:',df.loc[df['lon'].isnull()]['lat-lon'].unique())"
   ]
  },
  {
   "cell_type": "markdown",
   "metadata": {},
   "source": [
    "### podemos pisar informacion segun ID"
   ]
  },
  {
   "cell_type": "code",
   "execution_count": 24,
   "metadata": {},
   "outputs": [
    {
     "name": "stderr",
     "output_type": "stream",
     "text": [
      "C:\\Users\\Manu\\Anaconda3\\envs\\manu\\lib\\site-packages\\pandas\\core\\indexing.py:671: SettingWithCopyWarning: \n",
      "A value is trying to be set on a copy of a slice from a DataFrame\n",
      "\n",
      "See the caveats in the documentation: https://pandas.pydata.org/pandas-docs/stable/user_guide/indexing.html#returning-a-view-versus-a-copy\n",
      "  self._setitem_with_indexer(indexer, value)\n"
     ]
    }
   ],
   "source": [
    "# donde falte lat, corremos nuestro dic de ids\n",
    "for i in range(len(df)):\n",
    "    try:\n",
    "        if np.isnan(df.lat.iloc[i]):\n",
    "            df.lat.iloc[i] = geo_dic_ID[df.geonames_id.iloc[i]][0]\n",
    "            df.lon.iloc[i] = geo_dic_ID[df.geonames_id.iloc[i]][1]\n",
    "    except:\n",
    "        pass"
   ]
  },
  {
   "cell_type": "code",
   "execution_count": 25,
   "metadata": {},
   "outputs": [
    {
     "data": {
      "text/plain": [
       "geonames_id    18717\n",
       "lat-lon        51550\n",
       "lat             8346\n",
       "lon             8346\n",
       "dtype: int64"
      ]
     },
     "execution_count": 25,
     "metadata": {},
     "output_type": "execute_result"
    }
   ],
   "source": [
    "# baja el numero de 51550 a 8346\n",
    "df.isna().sum()[df.isna().sum()>0][['geonames_id','lat-lon','lat','lon']]"
   ]
  },
  {
   "cell_type": "code",
   "execution_count": 26,
   "metadata": {},
   "outputs": [
    {
     "data": {
      "text/html": [
       "<div>\n",
       "<style scoped>\n",
       "    .dataframe tbody tr th:only-of-type {\n",
       "        vertical-align: middle;\n",
       "    }\n",
       "\n",
       "    .dataframe tbody tr th {\n",
       "        vertical-align: top;\n",
       "    }\n",
       "\n",
       "    .dataframe thead th {\n",
       "        text-align: right;\n",
       "    }\n",
       "</style>\n",
       "<table border=\"1\" class=\"dataframe\">\n",
       "  <thead>\n",
       "    <tr style=\"text-align: right;\">\n",
       "      <th></th>\n",
       "      <th>place_name</th>\n",
       "      <th>geonames_id</th>\n",
       "      <th>lat-lon</th>\n",
       "      <th>lat</th>\n",
       "      <th>lon</th>\n",
       "    </tr>\n",
       "  </thead>\n",
       "  <tbody>\n",
       "    <tr>\n",
       "      <th>90846</th>\n",
       "      <td>Adrogué</td>\n",
       "      <td>NaN</td>\n",
       "      <td>NaN</td>\n",
       "      <td>NaN</td>\n",
       "      <td>NaN</td>\n",
       "    </tr>\n",
       "    <tr>\n",
       "      <th>33686</th>\n",
       "      <td>Nordelta</td>\n",
       "      <td>NaN</td>\n",
       "      <td>NaN</td>\n",
       "      <td>NaN</td>\n",
       "      <td>NaN</td>\n",
       "    </tr>\n",
       "    <tr>\n",
       "      <th>73195</th>\n",
       "      <td>Mayling Club de Campo</td>\n",
       "      <td>NaN</td>\n",
       "      <td>NaN</td>\n",
       "      <td>NaN</td>\n",
       "      <td>NaN</td>\n",
       "    </tr>\n",
       "    <tr>\n",
       "      <th>70064</th>\n",
       "      <td>Guernica</td>\n",
       "      <td>NaN</td>\n",
       "      <td>NaN</td>\n",
       "      <td>NaN</td>\n",
       "      <td>NaN</td>\n",
       "    </tr>\n",
       "    <tr>\n",
       "      <th>64261</th>\n",
       "      <td>Nordelta</td>\n",
       "      <td>NaN</td>\n",
       "      <td>NaN</td>\n",
       "      <td>NaN</td>\n",
       "      <td>NaN</td>\n",
       "    </tr>\n",
       "  </tbody>\n",
       "</table>\n",
       "</div>"
      ],
      "text/plain": [
       "                  place_name  geonames_id lat-lon  lat  lon\n",
       "90846                Adrogué          NaN     NaN  NaN  NaN\n",
       "33686               Nordelta          NaN     NaN  NaN  NaN\n",
       "73195  Mayling Club de Campo          NaN     NaN  NaN  NaN\n",
       "70064               Guernica          NaN     NaN  NaN  NaN\n",
       "64261               Nordelta          NaN     NaN  NaN  NaN"
      ]
     },
     "execution_count": 26,
     "metadata": {},
     "output_type": "execute_result"
    }
   ],
   "source": [
    "# vemos registros sin lat-long pero con geonames_id, recuperaremos ese lat-long\n",
    "df.loc[df['lat'].isnull()].loc[df['geonames_id'].isnull()][['place_name','geonames_id','lat-lon','lat','lon']].sample(5)"
   ]
  },
  {
   "cell_type": "markdown",
   "metadata": {},
   "source": [
    "### podemos pisar informacion segun place_name"
   ]
  },
  {
   "cell_type": "code",
   "execution_count": 27,
   "metadata": {},
   "outputs": [
    {
     "name": "stderr",
     "output_type": "stream",
     "text": [
      "C:\\Users\\Manu\\Anaconda3\\envs\\manu\\lib\\site-packages\\pandas\\core\\indexing.py:671: SettingWithCopyWarning: \n",
      "A value is trying to be set on a copy of a slice from a DataFrame\n",
      "\n",
      "See the caveats in the documentation: https://pandas.pydata.org/pandas-docs/stable/user_guide/indexing.html#returning-a-view-versus-a-copy\n",
      "  self._setitem_with_indexer(indexer, value)\n"
     ]
    }
   ],
   "source": [
    "# donde falte lat, corremos nuestro dic de names\n",
    "for i in range(len(df)):\n",
    "    try:\n",
    "        if np.isnan(df.lat.iloc[i]):\n",
    "            df.lat.iloc[i] = geo_dic_name[df.place_name.iloc[i]][0]\n",
    "            df.lon.iloc[i] = geo_dic_name[df.place_name.iloc[i]][1]\n",
    "    except:\n",
    "        pass"
   ]
  },
  {
   "cell_type": "code",
   "execution_count": 28,
   "metadata": {},
   "outputs": [
    {
     "data": {
      "text/plain": [
       "geonames_id    18717\n",
       "lat-lon        51550\n",
       "lat             2017\n",
       "lon             2017\n",
       "dtype: int64"
      ]
     },
     "execution_count": 28,
     "metadata": {},
     "output_type": "execute_result"
    }
   ],
   "source": [
    "# baja el numero de 8346 a 2017\n",
    "df.isna().sum()[df.isna().sum()>0][['geonames_id','lat-lon','lat','lon']]"
   ]
  },
  {
   "cell_type": "markdown",
   "metadata": {},
   "source": [
    "# GEONAMES by parent NAME\n",
    "aun quedan 2017 valores por hallar, se sospecha que las ciudades no están escritas de la misma manera\n"
   ]
  },
  {
   "cell_type": "code",
   "execution_count": 29,
   "metadata": {},
   "outputs": [],
   "source": [
    "falta_geo = df[df['lat'].isna()][['place_with_parent_names','place_name']]"
   ]
  },
  {
   "cell_type": "code",
   "execution_count": 30,
   "metadata": {},
   "outputs": [],
   "source": [
    "falta_geo.reset_index(inplace=True)"
   ]
  },
  {
   "cell_type": "code",
   "execution_count": 31,
   "metadata": {},
   "outputs": [
    {
     "data": {
      "text/html": [
       "<div>\n",
       "<style scoped>\n",
       "    .dataframe tbody tr th:only-of-type {\n",
       "        vertical-align: middle;\n",
       "    }\n",
       "\n",
       "    .dataframe tbody tr th {\n",
       "        vertical-align: top;\n",
       "    }\n",
       "\n",
       "    .dataframe thead th {\n",
       "        text-align: right;\n",
       "    }\n",
       "</style>\n",
       "<table border=\"1\" class=\"dataframe\">\n",
       "  <thead>\n",
       "    <tr style=\"text-align: right;\">\n",
       "      <th></th>\n",
       "      <th>index</th>\n",
       "      <th>place_with_parent_names</th>\n",
       "      <th>place_name</th>\n",
       "    </tr>\n",
       "  </thead>\n",
       "  <tbody>\n",
       "    <tr>\n",
       "      <th>1041</th>\n",
       "      <td>86145</td>\n",
       "      <td>|Argentina|Capital Federal|Palermo|Palermo Chico|</td>\n",
       "      <td>Palermo Chico</td>\n",
       "    </tr>\n",
       "    <tr>\n",
       "      <th>1157</th>\n",
       "      <td>91669</td>\n",
       "      <td>|Argentina|Buenos Aires Costa Atlántica|Mar de...</td>\n",
       "      <td>Caisamar</td>\n",
       "    </tr>\n",
       "    <tr>\n",
       "      <th>1360</th>\n",
       "      <td>94393</td>\n",
       "      <td>|Argentina|Bs.As. G.B.A. Zona Sur|Lanús|Valent...</td>\n",
       "      <td>Valentín Alsina</td>\n",
       "    </tr>\n",
       "  </tbody>\n",
       "</table>\n",
       "</div>"
      ],
      "text/plain": [
       "      index                            place_with_parent_names  \\\n",
       "1041  86145  |Argentina|Capital Federal|Palermo|Palermo Chico|   \n",
       "1157  91669  |Argentina|Buenos Aires Costa Atlántica|Mar de...   \n",
       "1360  94393  |Argentina|Bs.As. G.B.A. Zona Sur|Lanús|Valent...   \n",
       "\n",
       "           place_name  \n",
       "1041    Palermo Chico  \n",
       "1157         Caisamar  \n",
       "1360  Valentín Alsina  "
      ]
     },
     "execution_count": 31,
     "metadata": {},
     "output_type": "execute_result"
    }
   ],
   "source": [
    "falta_geo.sample(3)"
   ]
  },
  {
   "cell_type": "code",
   "execution_count": 32,
   "metadata": {},
   "outputs": [],
   "source": [
    "falta_geo.place_with_parent_names = [falta_geo.place_with_parent_names.iloc[i].strip('|') for i in range(len(falta_geo))]"
   ]
  },
  {
   "cell_type": "code",
   "execution_count": 33,
   "metadata": {},
   "outputs": [
    {
     "data": {
      "text/plain": [
       "{2, 3, 4, 5}"
      ]
     },
     "execution_count": 33,
     "metadata": {},
     "output_type": "execute_result"
    }
   ],
   "source": [
    "cant_pipes = []\n",
    "\n",
    "for i in range(len(falta_geo)):\n",
    "    cant_pipes.append(len(falta_geo.place_with_parent_names.iloc[i].split('|')))\n",
    "\n",
    "set(cant_pipes)"
   ]
  },
  {
   "cell_type": "markdown",
   "metadata": {},
   "source": [
    "### duplicamos falta_geo para acortar"
   ]
  },
  {
   "cell_type": "code",
   "execution_count": 34,
   "metadata": {},
   "outputs": [],
   "source": [
    "fg = falta_geo"
   ]
  },
  {
   "cell_type": "code",
   "execution_count": 35,
   "metadata": {},
   "outputs": [],
   "source": [
    "cols = ['or1','or2','or3','or4','or5']"
   ]
  },
  {
   "cell_type": "code",
   "execution_count": 36,
   "metadata": {},
   "outputs": [],
   "source": [
    "fg['or1'],fg['or2'],fg['or3'],fg['or4'],fg['or5'] = '','','','',''"
   ]
  },
  {
   "cell_type": "code",
   "execution_count": 37,
   "metadata": {},
   "outputs": [
    {
     "name": "stderr",
     "output_type": "stream",
     "text": [
      "C:\\Users\\Manu\\Anaconda3\\envs\\manu\\lib\\site-packages\\pandas\\core\\indexing.py:671: SettingWithCopyWarning: \n",
      "A value is trying to be set on a copy of a slice from a DataFrame\n",
      "\n",
      "See the caveats in the documentation: https://pandas.pydata.org/pandas-docs/stable/user_guide/indexing.html#returning-a-view-versus-a-copy\n",
      "  self._setitem_with_indexer(indexer, value)\n"
     ]
    }
   ],
   "source": [
    "for i in range(len(fg)):\n",
    "    for x, y in enumerate(cols,0):\n",
    "        try:\n",
    "            fg[y].iloc[i] = fg.place_with_parent_names.iloc[i].split('|')[x]\n",
    "        except: pass"
   ]
  },
  {
   "cell_type": "code",
   "execution_count": 38,
   "metadata": {},
   "outputs": [
    {
     "data": {
      "text/html": [
       "<div>\n",
       "<style scoped>\n",
       "    .dataframe tbody tr th:only-of-type {\n",
       "        vertical-align: middle;\n",
       "    }\n",
       "\n",
       "    .dataframe tbody tr th {\n",
       "        vertical-align: top;\n",
       "    }\n",
       "\n",
       "    .dataframe thead th {\n",
       "        text-align: right;\n",
       "    }\n",
       "</style>\n",
       "<table border=\"1\" class=\"dataframe\">\n",
       "  <thead>\n",
       "    <tr style=\"text-align: right;\">\n",
       "      <th></th>\n",
       "      <th>index</th>\n",
       "      <th>place_with_parent_names</th>\n",
       "      <th>place_name</th>\n",
       "      <th>or1</th>\n",
       "      <th>or2</th>\n",
       "      <th>or3</th>\n",
       "      <th>or4</th>\n",
       "      <th>or5</th>\n",
       "      <th>lat</th>\n",
       "      <th>lon</th>\n",
       "      <th>coincide_con</th>\n",
       "    </tr>\n",
       "  </thead>\n",
       "  <tbody>\n",
       "    <tr>\n",
       "      <th>1900</th>\n",
       "      <td>108297</td>\n",
       "      <td>Argentina|Bs.As. G.B.A. Zona Norte|Tigre|La Co...</td>\n",
       "      <td>La Comarca</td>\n",
       "      <td>Argentina</td>\n",
       "      <td>Bs.As. G.B.A. Zona Norte</td>\n",
       "      <td>Tigre</td>\n",
       "      <td>La Comarca</td>\n",
       "      <td></td>\n",
       "      <td>NaN</td>\n",
       "      <td>NaN</td>\n",
       "      <td>NaN</td>\n",
       "    </tr>\n",
       "    <tr>\n",
       "      <th>818</th>\n",
       "      <td>79088</td>\n",
       "      <td>Argentina|Bs.As. G.B.A. Zona Norte|Tigre|Solar...</td>\n",
       "      <td>Solares del Talar</td>\n",
       "      <td>Argentina</td>\n",
       "      <td>Bs.As. G.B.A. Zona Norte</td>\n",
       "      <td>Tigre</td>\n",
       "      <td>Solares del Talar</td>\n",
       "      <td></td>\n",
       "      <td>NaN</td>\n",
       "      <td>NaN</td>\n",
       "      <td>NaN</td>\n",
       "    </tr>\n",
       "    <tr>\n",
       "      <th>400</th>\n",
       "      <td>51806</td>\n",
       "      <td>Argentina|Bs.As. G.B.A. Zona Norte|San Isidro|...</td>\n",
       "      <td>Boulogne Sur Mer</td>\n",
       "      <td>Argentina</td>\n",
       "      <td>Bs.As. G.B.A. Zona Norte</td>\n",
       "      <td>San Isidro</td>\n",
       "      <td>Boulogne Sur Mer</td>\n",
       "      <td></td>\n",
       "      <td>NaN</td>\n",
       "      <td>NaN</td>\n",
       "      <td>NaN</td>\n",
       "    </tr>\n",
       "    <tr>\n",
       "      <th>1285</th>\n",
       "      <td>93866</td>\n",
       "      <td>Argentina|Bs.As. G.B.A. Zona Norte|Tigre|Norde...</td>\n",
       "      <td>Enyoi</td>\n",
       "      <td>Argentina</td>\n",
       "      <td>Bs.As. G.B.A. Zona Norte</td>\n",
       "      <td>Tigre</td>\n",
       "      <td>Nordelta</td>\n",
       "      <td>Enyoi</td>\n",
       "      <td>NaN</td>\n",
       "      <td>NaN</td>\n",
       "      <td>NaN</td>\n",
       "    </tr>\n",
       "    <tr>\n",
       "      <th>1831</th>\n",
       "      <td>106556</td>\n",
       "      <td>Argentina|Bs.As. G.B.A. Zona Sur|La Plata|Manu...</td>\n",
       "      <td>Manuel B Gonnet</td>\n",
       "      <td>Argentina</td>\n",
       "      <td>Bs.As. G.B.A. Zona Sur</td>\n",
       "      <td>La Plata</td>\n",
       "      <td>Manuel B Gonnet</td>\n",
       "      <td></td>\n",
       "      <td>NaN</td>\n",
       "      <td>NaN</td>\n",
       "      <td>NaN</td>\n",
       "    </tr>\n",
       "  </tbody>\n",
       "</table>\n",
       "</div>"
      ],
      "text/plain": [
       "       index                            place_with_parent_names  \\\n",
       "1900  108297  Argentina|Bs.As. G.B.A. Zona Norte|Tigre|La Co...   \n",
       "818    79088  Argentina|Bs.As. G.B.A. Zona Norte|Tigre|Solar...   \n",
       "400    51806  Argentina|Bs.As. G.B.A. Zona Norte|San Isidro|...   \n",
       "1285   93866  Argentina|Bs.As. G.B.A. Zona Norte|Tigre|Norde...   \n",
       "1831  106556  Argentina|Bs.As. G.B.A. Zona Sur|La Plata|Manu...   \n",
       "\n",
       "             place_name        or1                       or2         or3  \\\n",
       "1900         La Comarca  Argentina  Bs.As. G.B.A. Zona Norte       Tigre   \n",
       "818   Solares del Talar  Argentina  Bs.As. G.B.A. Zona Norte       Tigre   \n",
       "400    Boulogne Sur Mer  Argentina  Bs.As. G.B.A. Zona Norte  San Isidro   \n",
       "1285              Enyoi  Argentina  Bs.As. G.B.A. Zona Norte       Tigre   \n",
       "1831    Manuel B Gonnet  Argentina    Bs.As. G.B.A. Zona Sur    La Plata   \n",
       "\n",
       "                    or4    or5  lat  lon  coincide_con  \n",
       "1900         La Comarca         NaN  NaN           NaN  \n",
       "818   Solares del Talar         NaN  NaN           NaN  \n",
       "400    Boulogne Sur Mer         NaN  NaN           NaN  \n",
       "1285           Nordelta  Enyoi  NaN  NaN           NaN  \n",
       "1831    Manuel B Gonnet         NaN  NaN           NaN  "
      ]
     },
     "execution_count": 38,
     "metadata": {},
     "output_type": "execute_result"
    }
   ],
   "source": [
    "fg['lat'] = np.nan\n",
    "fg['lon'] = np.nan\n",
    "fg['coincide_con'] = np.nan\n",
    "\n",
    "np.random.seed(3)\n",
    "fg.sample(5)"
   ]
  },
  {
   "cell_type": "code",
   "execution_count": 39,
   "metadata": {},
   "outputs": [],
   "source": [
    "cols.reverse()"
   ]
  },
  {
   "cell_type": "code",
   "execution_count": 40,
   "metadata": {},
   "outputs": [
    {
     "data": {
      "text/html": [
       "<div>\n",
       "<style scoped>\n",
       "    .dataframe tbody tr th:only-of-type {\n",
       "        vertical-align: middle;\n",
       "    }\n",
       "\n",
       "    .dataframe tbody tr th {\n",
       "        vertical-align: top;\n",
       "    }\n",
       "\n",
       "    .dataframe thead th {\n",
       "        text-align: right;\n",
       "    }\n",
       "</style>\n",
       "<table border=\"1\" class=\"dataframe\">\n",
       "  <thead>\n",
       "    <tr style=\"text-align: right;\">\n",
       "      <th></th>\n",
       "      <th>index</th>\n",
       "      <th>place_with_parent_names</th>\n",
       "      <th>place_name</th>\n",
       "      <th>or1</th>\n",
       "      <th>or2</th>\n",
       "      <th>or3</th>\n",
       "      <th>or4</th>\n",
       "      <th>or5</th>\n",
       "      <th>lat</th>\n",
       "      <th>lon</th>\n",
       "      <th>coincide_con</th>\n",
       "    </tr>\n",
       "  </thead>\n",
       "  <tbody>\n",
       "    <tr>\n",
       "      <th>0</th>\n",
       "      <td>109</td>\n",
       "      <td>Argentina|Bs.As. G.B.A. Zona Norte|San Isidro|...</td>\n",
       "      <td>Boulogne Sur Mer</td>\n",
       "      <td>Argentina</td>\n",
       "      <td>Bs.As. G.B.A. Zona Norte</td>\n",
       "      <td>San Isidro</td>\n",
       "      <td>Boulogne Sur Mer</td>\n",
       "      <td></td>\n",
       "      <td>NaN</td>\n",
       "      <td>NaN</td>\n",
       "      <td>NaN</td>\n",
       "    </tr>\n",
       "    <tr>\n",
       "      <th>1</th>\n",
       "      <td>581</td>\n",
       "      <td>Argentina|Bs.As. G.B.A. Zona Norte|Tigre|Norde...</td>\n",
       "      <td>Enyoi</td>\n",
       "      <td>Argentina</td>\n",
       "      <td>Bs.As. G.B.A. Zona Norte</td>\n",
       "      <td>Tigre</td>\n",
       "      <td>Nordelta</td>\n",
       "      <td>Enyoi</td>\n",
       "      <td>NaN</td>\n",
       "      <td>NaN</td>\n",
       "      <td>NaN</td>\n",
       "    </tr>\n",
       "    <tr>\n",
       "      <th>2</th>\n",
       "      <td>584</td>\n",
       "      <td>Argentina|Bs.As. G.B.A. Zona Norte|Tigre|Norde...</td>\n",
       "      <td>Enyoi</td>\n",
       "      <td>Argentina</td>\n",
       "      <td>Bs.As. G.B.A. Zona Norte</td>\n",
       "      <td>Tigre</td>\n",
       "      <td>Nordelta</td>\n",
       "      <td>Enyoi</td>\n",
       "      <td>NaN</td>\n",
       "      <td>NaN</td>\n",
       "      <td>NaN</td>\n",
       "    </tr>\n",
       "  </tbody>\n",
       "</table>\n",
       "</div>"
      ],
      "text/plain": [
       "   index                            place_with_parent_names        place_name  \\\n",
       "0    109  Argentina|Bs.As. G.B.A. Zona Norte|San Isidro|...  Boulogne Sur Mer   \n",
       "1    581  Argentina|Bs.As. G.B.A. Zona Norte|Tigre|Norde...             Enyoi   \n",
       "2    584  Argentina|Bs.As. G.B.A. Zona Norte|Tigre|Norde...             Enyoi   \n",
       "\n",
       "         or1                       or2         or3               or4    or5  \\\n",
       "0  Argentina  Bs.As. G.B.A. Zona Norte  San Isidro  Boulogne Sur Mer          \n",
       "1  Argentina  Bs.As. G.B.A. Zona Norte       Tigre          Nordelta  Enyoi   \n",
       "2  Argentina  Bs.As. G.B.A. Zona Norte       Tigre          Nordelta  Enyoi   \n",
       "\n",
       "   lat  lon  coincide_con  \n",
       "0  NaN  NaN           NaN  \n",
       "1  NaN  NaN           NaN  \n",
       "2  NaN  NaN           NaN  "
      ]
     },
     "execution_count": 40,
     "metadata": {},
     "output_type": "execute_result"
    }
   ],
   "source": [
    "fg.head(3)"
   ]
  },
  {
   "cell_type": "code",
   "execution_count": 41,
   "metadata": {},
   "outputs": [
    {
     "name": "stdout",
     "output_type": "stream",
     "text": [
      "0\n",
      "or5\n",
      "1\n",
      "or4\n",
      "2\n",
      "or3\n",
      "3\n",
      "or2\n",
      "4\n",
      "or1\n"
     ]
    }
   ],
   "source": [
    "for x, y in enumerate(cols,0):\n",
    "    print(x)\n",
    "    print(y)"
   ]
  },
  {
   "cell_type": "code",
   "execution_count": 42,
   "metadata": {},
   "outputs": [],
   "source": [
    "temp = fg.head()"
   ]
  },
  {
   "cell_type": "code",
   "execution_count": 43,
   "metadata": {},
   "outputs": [
    {
     "data": {
      "text/plain": [
       "[-22.26667, -66.16667]"
      ]
     },
     "execution_count": 43,
     "metadata": {},
     "output_type": "execute_result"
    }
   ],
   "source": [
    "geo_dic_name['San Isidro']"
   ]
  },
  {
   "cell_type": "code",
   "execution_count": 44,
   "metadata": {},
   "outputs": [
    {
     "data": {
      "text/plain": [
       "[-22.26667, -66.16667]"
      ]
     },
     "execution_count": 44,
     "metadata": {},
     "output_type": "execute_result"
    }
   ],
   "source": [
    "geo_dic_name[temp.or3.iloc[0]]"
   ]
  },
  {
   "cell_type": "code",
   "execution_count": 45,
   "metadata": {},
   "outputs": [
    {
     "name": "stdout",
     "output_type": "stream",
     "text": [
      "San Isidro [-22.26667, -66.16667]\n",
      "Argentina [-29.535320000000002, -62.26693]\n",
      "Nordelta [-34.41427, -58.651709999999994]\n",
      "Tigre [-22.383329999999997, -63.85]\n",
      "Argentina [-29.535320000000002, -62.26693]\n",
      "Nordelta [-34.41427, -58.651709999999994]\n",
      "Tigre [-22.383329999999997, -63.85]\n",
      "Argentina [-29.535320000000002, -62.26693]\n",
      "Tigre [-22.383329999999997, -63.85]\n",
      "Argentina [-29.535320000000002, -62.26693]\n",
      "Tigre [-22.383329999999997, -63.85]\n",
      "Argentina [-29.535320000000002, -62.26693]\n"
     ]
    }
   ],
   "source": [
    "for i in range(5):\n",
    "    for x in cols:\n",
    "        try:\n",
    "            print(fg[x].iloc[i], geo_dic_name[fg[x].iloc[i]])\n",
    "        except:pass"
   ]
  },
  {
   "cell_type": "code",
   "execution_count": 46,
   "metadata": {
    "scrolled": false
   },
   "outputs": [
    {
     "name": "stderr",
     "output_type": "stream",
     "text": [
      "C:\\Users\\Manu\\Anaconda3\\envs\\manu\\lib\\site-packages\\pandas\\core\\indexing.py:671: SettingWithCopyWarning: \n",
      "A value is trying to be set on a copy of a slice from a DataFrame\n",
      "\n",
      "See the caveats in the documentation: https://pandas.pydata.org/pandas-docs/stable/user_guide/indexing.html#returning-a-view-versus-a-copy\n",
      "  self._setitem_with_indexer(indexer, value)\n"
     ]
    }
   ],
   "source": [
    "for i in range(len(fg)):\n",
    "    for x in cols:\n",
    "        try:\n",
    "            fg.lat.iloc[i] = geo_dic_name[fg[x].iloc[i]][0]\n",
    "            fg.lon.iloc[i] = geo_dic_name[fg[x].iloc[i]][1]\n",
    "            fg.coincide_con.iloc[i] = fg[x].iloc[i]\n",
    "            break # por no cortar el loop cuando encontraba una coincidencia, terminaba poniendo todos Argentina\n",
    "        except: pass"
   ]
  },
  {
   "cell_type": "code",
   "execution_count": null,
   "metadata": {},
   "outputs": [],
   "source": []
  },
  {
   "cell_type": "code",
   "execution_count": null,
   "metadata": {},
   "outputs": [],
   "source": []
  },
  {
   "cell_type": "code",
   "execution_count": null,
   "metadata": {},
   "outputs": [],
   "source": []
  },
  {
   "cell_type": "code",
   "execution_count": null,
   "metadata": {},
   "outputs": [],
   "source": []
  },
  {
   "cell_type": "code",
   "execution_count": null,
   "metadata": {},
   "outputs": [],
   "source": []
  },
  {
   "cell_type": "code",
   "execution_count": 47,
   "metadata": {},
   "outputs": [],
   "source": [
    "new_geo_dic = {fg['index'].iloc[i] : [fg.lat.iloc[i],fg.lon.iloc[i]] for i in range(len(fg))}"
   ]
  },
  {
   "cell_type": "code",
   "execution_count": null,
   "metadata": {},
   "outputs": [],
   "source": []
  },
  {
   "cell_type": "code",
   "execution_count": 48,
   "metadata": {},
   "outputs": [
    {
     "data": {
      "text/plain": [
       "2"
      ]
     },
     "execution_count": 48,
     "metadata": {},
     "output_type": "execute_result"
    }
   ],
   "source": [
    "df.index[2]"
   ]
  },
  {
   "cell_type": "code",
   "execution_count": 49,
   "metadata": {},
   "outputs": [],
   "source": [
    "# donde falte lat, corremos nuestro dic de names\n",
    "for i in range(len(df)):\n",
    "    try:\n",
    "        if np.isnan(df.lat.iloc[i]):\n",
    "            df.lat.iloc[i] = new_geo_dic[df.index[i]][0]\n",
    "            df.lon.iloc[i] = new_geo_dic[df.index[i]][1]\n",
    "    except:\n",
    "        pass"
   ]
  },
  {
   "cell_type": "code",
   "execution_count": null,
   "metadata": {},
   "outputs": [],
   "source": []
  },
  {
   "cell_type": "code",
   "execution_count": 50,
   "metadata": {},
   "outputs": [
    {
     "data": {
      "text/plain": [
       "lat    0\n",
       "lon    0\n",
       "dtype: int64"
      ]
     },
     "execution_count": 50,
     "metadata": {},
     "output_type": "execute_result"
    }
   ],
   "source": [
    "# volvemos a comprobar los faltantes\n",
    "df.isna().sum()[['lat','lon']]"
   ]
  },
  {
   "cell_type": "markdown",
   "metadata": {},
   "source": [
    "# correcta o no, ya tenemos todas las geolocalizacioens"
   ]
  },
  {
   "cell_type": "markdown",
   "metadata": {},
   "source": [
    "# GEOLOCALIZACION"
   ]
  },
  {
   "cell_type": "code",
   "execution_count": 51,
   "metadata": {},
   "outputs": [],
   "source": [
    "geodf = gpd.GeoDataFrame(df)"
   ]
  },
  {
   "cell_type": "code",
   "execution_count": 52,
   "metadata": {},
   "outputs": [],
   "source": [
    "geodf = geodf.loc[geodf.lat.notna()]"
   ]
  },
  {
   "cell_type": "code",
   "execution_count": 53,
   "metadata": {},
   "outputs": [],
   "source": [
    "geodf.reset_index(drop=True,inplace=True)"
   ]
  },
  {
   "cell_type": "code",
   "execution_count": 54,
   "metadata": {},
   "outputs": [
    {
     "data": {
      "text/plain": [
       "'Esta celda tardo en ejecutar: 0 minutos, 6 segundos.'"
      ]
     },
     "execution_count": 54,
     "metadata": {},
     "output_type": "execute_result"
    }
   ],
   "source": [
    "t()\n",
    "geodf['geometry'] = geodf.index.map(lambda x: Point(geodf.lon.iloc[x],geodf.lat.iloc[x]))\n",
    "tt()"
   ]
  },
  {
   "cell_type": "markdown",
   "metadata": {},
   "source": [
    "# MAPA Argentina"
   ]
  },
  {
   "cell_type": "code",
   "execution_count": 55,
   "metadata": {},
   "outputs": [],
   "source": [
    "# # ENCONTRE UN MAPA EMBEBIDO EN PANDAS, PERO NO COINCIDE 100%, NO LO USO\n",
    "# mundo = gpd.read_file(gpd.datasets.get_path('naturalearth_lowres'))\n",
    "# cities = gpd.read_file(gpd.datasets.get_path('naturalearth_cities'))\n",
    "\n",
    "# argentina2 = mundo.loc[mundo.name == 'Argentina']"
   ]
  },
  {
   "cell_type": "code",
   "execution_count": 56,
   "metadata": {},
   "outputs": [],
   "source": [
    "# leo una cartografia de fondo\n",
    "mapBase = gpd.read_file('Codgeo/pxdptodatosok.shp')"
   ]
  },
  {
   "cell_type": "code",
   "execution_count": 57,
   "metadata": {},
   "outputs": [],
   "source": [
    "def acentos(data):\n",
    "    try:         return data.replace('Ã³','ó').replace('Ã¡','á').replace('Ã­','í').replace('Ã©','e').replace('Ãº','ú')\n",
    "    except:      pass\n",
    "\n",
    "mapBase.departamen = mapBase.departamen.map(acentos)\n",
    "mapBase.provincia = mapBase.provincia.map(acentos)\n",
    "# quitamos la antartida\n",
    "mapBase = mapBase.loc[(mapBase.departamen != 'Antártida Argentina')&(mapBase.departamen != 'Islas del Atlántico Sur')]"
   ]
  },
  {
   "cell_type": "code",
   "execution_count": 58,
   "metadata": {},
   "outputs": [],
   "source": [
    "simple = mapBase[['codpcia','departamen','provincia','geometry']]\n",
    "mas_simple = mapBase[['codpcia','provincia']]\n",
    "lista_codigos = mas_simple.drop_duplicates()"
   ]
  },
  {
   "cell_type": "code",
   "execution_count": 59,
   "metadata": {},
   "outputs": [],
   "source": [
    "dic_codigos = {lista_codigos.codpcia.iloc[i] : lista_codigos.provincia.iloc[i] for i in range(len(lista_codigos))}"
   ]
  },
  {
   "cell_type": "code",
   "execution_count": 60,
   "metadata": {},
   "outputs": [
    {
     "data": {
      "text/plain": [
       "'Ciudad Autónoma de Buenos Aires'"
      ]
     },
     "execution_count": 60,
     "metadata": {},
     "output_type": "execute_result"
    }
   ],
   "source": [
    "a = dic_codigos['02']\n",
    "a"
   ]
  },
  {
   "cell_type": "code",
   "execution_count": 61,
   "metadata": {},
   "outputs": [],
   "source": [
    "# recortamos las provincias\n",
    "provincias = mapBase.dissolve('codpcia')\n",
    "provincias = provincias.reindex(['pais','provincia','geometry'],axis=1)\n",
    "provincias['pais'] = 'Agentina'\n",
    "argentina = provincias.dissolve('pais')\n",
    "\n",
    "#recortamos el mapa de buenos aires del total argentino\n",
    "capitalMap = simple.loc[simple.codpcia == '02', :]\n",
    "gbaMap = simple.loc[simple.codpcia == '06', :]\n",
    "bsasMap = capitalMap.append(gbaMap, ignore_index=True)\n",
    "\n",
    "#estandarizamos nuestros index y eliminamos las columnas q no usaremos\n",
    "capital = capitalMap.reset_index()\n",
    "gbaMap = gbaMap.reset_index()\n",
    "bsasMap = bsasMap.reset_index()"
   ]
  },
  {
   "cell_type": "markdown",
   "metadata": {},
   "source": [
    "### en primera instancia vemos algunos puntos fuera de argentina."
   ]
  },
  {
   "cell_type": "code",
   "execution_count": 62,
   "metadata": {},
   "outputs": [],
   "source": [
    "geodf.crs = argentina.crs"
   ]
  },
  {
   "cell_type": "code",
   "execution_count": 63,
   "metadata": {},
   "outputs": [
    {
     "data": {
      "text/plain": [
       "Index(['operation', 'property_type', 'place_name', 'place_with_parent_names',\n",
       "       'country_name', 'state_name', 'geonames_id', 'lat-lon', 'lat', 'lon',\n",
       "       'price', 'currency', 'price_aprox_local_currency', 'price_aprox_usd',\n",
       "       'surface_total_in_m2', 'surface_covered_in_m2', 'price_usd_per_m2',\n",
       "       'price_per_m2', 'floor', 'rooms', 'expenses', 'properati_url',\n",
       "       'description', 'title', 'image_thumbnail', 'id', 'geo_ok', 'geometry'],\n",
       "      dtype='object')"
      ]
     },
     "execution_count": 63,
     "metadata": {},
     "output_type": "execute_result"
    }
   ],
   "source": [
    "geodf.columns"
   ]
  },
  {
   "cell_type": "code",
   "execution_count": 64,
   "metadata": {},
   "outputs": [
    {
     "data": {
      "image/png": "[encoded data removed]",
      "text/plain": [
       "<Figure size 144x144 with 1 Axes>"
      ]
     },
     "metadata": {
      "needs_background": "light"
     },
     "output_type": "display_data"
    }
   ],
   "source": [
    "fig = plt.figure(figsize=(2,2))\n",
    "ax = fig.add_subplot(1,1,1)\n",
    "\n",
    "provincias.plot(ax=ax,alpha=0.4,color='white',edgecolor='black')\n",
    "argentina.plot(ax=ax,alpha=0.6,color='red')\n",
    "#ploteamos el valor que ya sabemos erroneo\n",
    "geodf.loc[[9761]].plot(ax=ax,color='black')\n",
    "# y una muestra de algunos otros, para que no demore\n",
    "geodf.sample(200).plot(ax=ax,color='black')\n",
    "\n",
    "ax.set_axis_off()\n",
    "plt.axis('equal')\n",
    "ax.set_title('Properatti');"
   ]
  },
  {
   "cell_type": "markdown",
   "metadata": {},
   "source": [
    "# queda un punto fuera"
   ]
  },
  {
   "cell_type": "code",
   "execution_count": 65,
   "metadata": {},
   "outputs": [
    {
     "data": {
      "text/html": [
       "<div>\n",
       "<style scoped>\n",
       "    .dataframe tbody tr th:only-of-type {\n",
       "        vertical-align: middle;\n",
       "    }\n",
       "\n",
       "    .dataframe tbody tr th {\n",
       "        vertical-align: top;\n",
       "    }\n",
       "\n",
       "    .dataframe thead th {\n",
       "        text-align: right;\n",
       "    }\n",
       "</style>\n",
       "<table border=\"1\" class=\"dataframe\">\n",
       "  <thead>\n",
       "    <tr style=\"text-align: right;\">\n",
       "      <th></th>\n",
       "      <th>place_name</th>\n",
       "      <th>geonames_id</th>\n",
       "      <th>lat</th>\n",
       "      <th>lon</th>\n",
       "    </tr>\n",
       "  </thead>\n",
       "  <tbody>\n",
       "    <tr>\n",
       "      <th>9761</th>\n",
       "      <td>Córdoba</td>\n",
       "      <td>3860255.0</td>\n",
       "      <td>4.545843</td>\n",
       "      <td>-75.678931</td>\n",
       "    </tr>\n",
       "  </tbody>\n",
       "</table>\n",
       "</div>"
      ],
      "text/plain": [
       "     place_name  geonames_id       lat        lon\n",
       "9761    Córdoba    3860255.0  4.545843 -75.678931"
      ]
     },
     "execution_count": 65,
     "metadata": {},
     "output_type": "execute_result"
    }
   ],
   "source": [
    "#conseguimos el index del error\n",
    "error = geodf.loc[geodf.lat == geodf.lat.max()].index[0]\n",
    "geodf.loc[geodf.lat == geodf.lat.max()][['place_name','geonames_id','lat','lon']]"
   ]
  },
  {
   "cell_type": "code",
   "execution_count": 66,
   "metadata": {
    "scrolled": false
   },
   "outputs": [
    {
     "name": "stderr",
     "output_type": "stream",
     "text": [
      "C:\\Users\\Manu\\Anaconda3\\envs\\manu\\lib\\site-packages\\pandas\\core\\indexing.py:671: SettingWithCopyWarning: \n",
      "A value is trying to be set on a copy of a slice from a DataFrame\n",
      "\n",
      "See the caveats in the documentation: https://pandas.pydata.org/pandas-docs/stable/user_guide/indexing.html#returning-a-view-versus-a-copy\n",
      "  self._setitem_with_indexer(indexer, value)\n"
     ]
    }
   ],
   "source": [
    "# vemos un error de coordenadas\n",
    "geodf.lat.iloc[error] = geo_dic_ID[geodf.loc[error].geonames_id][0]\n",
    "geodf.lon.iloc[error] = geo_dic_ID[geodf.loc[error].geonames_id][1]\n",
    "\n",
    "# volvemos a generar ese punto\n",
    "geodf['geometry'].iloc[error] = Point(geodf.lon.iloc[error],geodf.lat.iloc[error])"
   ]
  },
  {
   "cell_type": "code",
   "execution_count": 67,
   "metadata": {},
   "outputs": [
    {
     "data": {
      "text/plain": [
       "'Esta celda tardo en ejecutar: 0 minutos, 6 segundos.'"
      ]
     },
     "execution_count": 67,
     "metadata": {},
     "output_type": "execute_result"
    },
    {
     "data": {
      "image/png": "[encoded data removed]",
      "text/plain": [
       "<Figure size 720x720 with 1 Axes>"
      ]
     },
     "metadata": {
      "needs_background": "light"
     },
     "output_type": "display_data"
    }
   ],
   "source": [
    "t()\n",
    "fig = plt.figure(figsize=(10,10))\n",
    "ax = fig.add_subplot(1,1,1)\n",
    "\n",
    "provincias.plot(ax=ax,alpha=0.4,color='white',edgecolor='grey')\n",
    "argentina.plot(ax=ax,alpha=0.5,color='grey')\n",
    "\n",
    "# ploteamos en verde los que vinieron en el dataframe\n",
    "geodf.loc[geodf.geo_ok == 1].plot(ax=ax,color='blue',alpha=0.5)\n",
    "\n",
    "# ploteamos en amarillo los que conseguimos nosotros los que vinieron en el dataframe\n",
    "geodf.loc[geodf.geo_ok == 0].plot(ax=ax,color='red',alpha=0.5)\n",
    "\n",
    "ax.legend({'recibidos':'blue','conseguidos':'red'})\n",
    "ax.set_axis_off()\n",
    "plt.axis('equal')\n",
    "ax.set_title('Properatti');\n",
    "tt()"
   ]
  },
  {
   "cell_type": "code",
   "execution_count": 68,
   "metadata": {},
   "outputs": [
    {
     "data": {
      "text/plain": [
       "'Desde el inicio, tardo en ejecutar: 1 minutos, 15 segundos.'"
      ]
     },
     "execution_count": 68,
     "metadata": {},
     "output_type": "execute_result"
    }
   ],
   "source": [
    "tiempo()"
   ]
  },
  {
   "cell_type": "code",
   "execution_count": null,
   "metadata": {},
   "outputs": [],
   "source": []
  },
  {
   "cell_type": "markdown",
   "metadata": {},
   "source": [
    "# ploteo con forloop"
   ]
  },
  {
   "cell_type": "code",
   "execution_count": 69,
   "metadata": {},
   "outputs": [],
   "source": [
    "# # demora 2 minutos 15\n",
    "\n",
    "# t() ; fig = plt.figure(figsize=(10,10)) ; ax = fig.add_subplot(1,1,1)\n",
    "\n",
    "# toplot = geodf[['geo_ok','geometry']] ; sample = 100\n",
    "\n",
    "# provincias.plot(ax=ax,alpha=0.4,color='white',edgecolor='grey') ; argentina.plot(ax=ax,alpha=0.5,color='grey')\n",
    "# x = toplot.loc[toplot.geo_ok==1].sample(toplot.geo_ok.value_counts()[1]-10000)\n",
    "# toplot = toplot.drop(list(x.index)) ; x.plot(ax=ax,color='blue')\n",
    "# x = toplot.loc[toplot.geo_ok==0].sample(toplot.geo_ok.value_counts()[0]-10000)\n",
    "# toplot = toplot.drop(list(x.index)) ; x.plot(ax=ax,color='red')\n",
    "\n",
    "# # ploteamos con un forloop para que se entremezclen los puntos\n",
    "# while len(toplot) >0 :\n",
    "#     # establecemos una condicion de modo tal que si el df llega a 0 len se interrumpe el loop\n",
    "#     if len(toplot) == 0:         break\n",
    "    \n",
    "#     try:\n",
    "#         x = toplot.loc[toplot.geo_ok==0].sample(sample)\n",
    "#         toplot = toplot.drop(list(x.index))\n",
    "#         x.plot(ax=ax,color='red')\n",
    "#     except: pass\n",
    "#     try:\n",
    "#         x = toplot.loc[toplot.geo_ok==1].sample(sample)\n",
    "#         toplot = toplot.drop(list(x.index))\n",
    "#         x.plot(ax=ax,color='blue')\n",
    "#     except: pass\n",
    "\n",
    "# ax.legend({'recibidos':'blue','conseguidos':'red'}) ; ax.set_axis_off() ; plt.axis('equal')\n",
    "# ax.set_title('Properatti');\n",
    "# tt()"
   ]
  },
  {
   "attachments": {
    "image.png": {
     "image/png": "[encoded data removed]"
    }
   },
   "cell_type": "markdown",
   "metadata": {},
   "source": [
    "![image.png](attachment:image.png)"
   ]
  },
  {
   "cell_type": "code",
   "execution_count": 70,
   "metadata": {},
   "outputs": [
    {
     "data": {
      "text/plain": [
       "'Desde el inicio, tardo en ejecutar: 1 minutos, 15 segundos.'"
      ]
     },
     "execution_count": 70,
     "metadata": {},
     "output_type": "execute_result"
    }
   ],
   "source": [
    "tiempo()"
   ]
  },
  {
   "cell_type": "markdown",
   "metadata": {},
   "source": [
    "# comprobamos que todos queden dentro de Argentina"
   ]
  },
  {
   "cell_type": "code",
   "execution_count": 71,
   "metadata": {},
   "outputs": [
    {
     "data": {
      "text/plain": [
       "'Esta celda tardo en ejecutar: 0 minutos, 0 segundos.'"
      ]
     },
     "execution_count": 71,
     "metadata": {},
     "output_type": "execute_result"
    }
   ],
   "source": [
    "t() # este proceso demora bastante: 3 minutos\n",
    "# ya obtuvimos este resultado por lo que no es necesario correrlo siempre\n",
    "\n",
    "# coincidencia = gpd.sjoin(geodf,argentina,how='inner')\n",
    "tt()\n",
    "\n",
    "# print(len(geodf) - len(coincidencia),'puntos fuera de argentina.')"
   ]
  },
  {
   "cell_type": "code",
   "execution_count": 72,
   "metadata": {},
   "outputs": [
    {
     "data": {
      "text/plain": [
       "'72 puntos fuera de argentina.'"
      ]
     },
     "execution_count": 72,
     "metadata": {},
     "output_type": "execute_result"
    }
   ],
   "source": [
    "'72 puntos fuera de argentina.'"
   ]
  },
  {
   "cell_type": "markdown",
   "metadata": {},
   "source": [
    "# fuera de Argentina"
   ]
  },
  {
   "cell_type": "code",
   "execution_count": 73,
   "metadata": {},
   "outputs": [],
   "source": [
    "# index_coincidentes = list(coincidencia.index)\n",
    "\n",
    "# geo_ok = coincidencia[['id','geometry']]\n",
    "\n",
    "# geodf_total = geodf[['id','geometry']]\n",
    "\n",
    "# fuera_arg = pd.concat([geodf_total,geo_ok])\n",
    "\n",
    "# # finalmente quitamos los duplicados y obtenemos los puntos que se encuentran fuera del mapa de Argentina\n",
    "# fuera_arg.drop_duplicates(keep=False,inplace=True)"
   ]
  },
  {
   "cell_type": "code",
   "execution_count": 74,
   "metadata": {},
   "outputs": [],
   "source": [
    "# anteriormente hemos obtenido esta lista, pero para dejar de correr esos largos procesos, la establecemos aquí.\n",
    "fuera_list = [667, 5139, 12197, 12411, 13448, 13931, 14155, 14157, 15870, 16837, 17031, 22161, 22214, 22376, 22377, 22393, 23624, 24630, 28629, 29477, 30126, 31616, 31618, 32533, 33830, 34803, 35176, 35614, 36874, 39841, 39860, 39871, 43280, 46036, 46739, 48370, 51958, 53376, 53641, 54688, 56423, 56425, 56430, 56996, 57752, 58489, 58904, 59204, 60303, 60771, 60773, 61498, 61506, 62637, 63511, 66455, 69329, 74403, 79179, 79250, 88816, 93480, 93939, 97685, 97788, 97793, 97888, 100043, 109690, 119569, 119830, 121139]"
   ]
  },
  {
   "cell_type": "code",
   "execution_count": 75,
   "metadata": {},
   "outputs": [],
   "source": [
    "fuera_arg = geodf.loc[fuera_list]"
   ]
  },
  {
   "cell_type": "code",
   "execution_count": 76,
   "metadata": {},
   "outputs": [
    {
     "data": {
      "image/png": "[encoded data removed]",
      "text/plain": [
       "<Figure size 288x288 with 1 Axes>"
      ]
     },
     "metadata": {
      "needs_background": "light"
     },
     "output_type": "display_data"
    }
   ],
   "source": [
    "fig = plt.figure(figsize=(4,4)) ; ax = fig.add_subplot(1,1,1)\n",
    "\n",
    "provincias.plot(ax=ax,alpha=0.4,color='white',edgecolor='grey')\n",
    "argentina.plot(ax=ax,alpha=0.5,color='grey')\n",
    "# ploteamos en verde los que vinieron en el dataframe\n",
    "fuera_arg.plot(ax=ax,color='blue',alpha=0.5)\n",
    "\n",
    "ax.set_axis_off() ; plt.axis('equal')\n",
    "ax.set_title('Properatti fuera del shape de Argentina');"
   ]
  },
  {
   "cell_type": "code",
   "execution_count": 77,
   "metadata": {},
   "outputs": [],
   "source": [
    "# creamos un dic para obtener las procinvias de dichos puntos\n",
    "dic_registro_id = {df.id.iloc[i] : df.state_name.iloc[i] for i in range(len(df))}"
   ]
  },
  {
   "cell_type": "code",
   "execution_count": 78,
   "metadata": {},
   "outputs": [],
   "source": [
    "fuera_arg.reset_index(inplace=True)\n",
    "\n",
    "fuera_arg['prov'] = fuera_arg.id.map(dic_registro_id)\n",
    "\n",
    "# normalizamos algunos nombres\n",
    "fuera_arg.prov = fuera_arg.prov.replace('Buenos Aires Costa Atlántica','Buenos Aires')\\\n",
    "                               .replace('Bs.As. G.B.A. Zona Sur','Buenos Aires')\\\n",
    "                               .replace('Tierra Del Fuego','Tierra del Fuego')"
   ]
  },
  {
   "cell_type": "code",
   "execution_count": 79,
   "metadata": {},
   "outputs": [
    {
     "data": {
      "text/plain": [
       "array(['Buenos Aires', 'Chubut', 'Santa Cruz', 'Tierra del Fuego',\n",
       "       'Misiones'], dtype=object)"
      ]
     },
     "execution_count": 79,
     "metadata": {},
     "output_type": "execute_result"
    }
   ],
   "source": [
    "prov_fuera_arg = fuera_arg.prov.unique()\n",
    "prov_fuera_arg"
   ]
  },
  {
   "cell_type": "code",
   "execution_count": 80,
   "metadata": {
    "scrolled": true
   },
   "outputs": [
    {
     "data": {
      "image/png": "[encoded data removed]",
      "text/plain": [
       "<Figure size 864x288 with 5 Axes>"
      ]
     },
     "metadata": {
      "needs_background": "light"
     },
     "output_type": "display_data"
    }
   ],
   "source": [
    "fig= plt.subplots(figsize=(12,4))\n",
    "\n",
    "# para i, el elemento de la lista de provincias y para e una lista de subplots ya definidos\n",
    "for i,e in enumerate([131,232,233,235,236]):\n",
    "    \n",
    "    ax = plt.subplot(e)   # en grilla de 1x3 ocupa el espacio 1\n",
    "    prov = prov_fuera_arg[i]\n",
    "    provincias.loc[provincias.provincia == prov].plot(ax=ax, alpha=0.4,color='grey',edgecolor='black')\n",
    "    fuera_arg.loc[fuera_arg.prov == prov].plot(ax=ax, color='blue',alpha=0.5)\n",
    "    ax.set_title('Fuera del shape de {}'.format(prov));\n",
    "\n",
    "plt.subplots_adjust(hspace=0.8,wspace=0.8)"
   ]
  },
  {
   "cell_type": "code",
   "execution_count": 81,
   "metadata": {},
   "outputs": [
    {
     "data": {
      "text/plain": [
       "'Desde el inicio, tardo en ejecutar: 1 minutos, 22 segundos.'"
      ]
     },
     "execution_count": 81,
     "metadata": {},
     "output_type": "execute_result"
    }
   ],
   "source": [
    "tiempo()"
   ]
  },
  {
   "cell_type": "code",
   "execution_count": 82,
   "metadata": {},
   "outputs": [
    {
     "data": {
      "text/plain": [
       "'Desde el inicio, tardo en ejecutar: 2 minutos, 53 segundos.'"
      ]
     },
     "execution_count": 82,
     "metadata": {},
     "output_type": "execute_result"
    }
   ],
   "source": [
    "'Desde el inicio, tardo en ejecutar: 2 minutos, 53 segundos.'"
   ]
  },
  {
   "cell_type": "markdown",
   "metadata": {},
   "source": [
    "# analisis de un caso fuera de argentina\n",
    "los que caen fuera de argentina están sobre los márgenes, asique entendemos se debe a una diferencia minuscula"
   ]
  },
  {
   "cell_type": "code",
   "execution_count": 84,
   "metadata": {},
   "outputs": [],
   "source": [
    "prov = 'Misiones'"
   ]
  },
  {
   "cell_type": "code",
   "execution_count": 85,
   "metadata": {},
   "outputs": [
    {
     "name": "stdout",
     "output_type": "stream",
     "text": [
      "lat -25.59477425\n",
      "lon -54.5848999\n"
     ]
    }
   ],
   "source": [
    "lat = fuera_arg.loc[fuera_arg.prov == prov].lat.max(); print('lat',lat)\n",
    "lon = fuera_arg.loc[fuera_arg.prov == prov].lon.min(); print('lon',lon)"
   ]
  },
  {
   "cell_type": "code",
   "execution_count": 86,
   "metadata": {},
   "outputs": [],
   "source": [
    "distance = 0.05\n",
    "lat_low = lat - distance ; lat_upe = lat + distance ; lon_low = lon - distance ; lon_upe = lon + distance"
   ]
  },
  {
   "cell_type": "code",
   "execution_count": 87,
   "metadata": {},
   "outputs": [],
   "source": [
    "test = Polygon([ (lon_upe,lat_upe), (lon_upe,lat_low), (lon_low,lat_low), (lon_low,lat_upe) ],)\n",
    "dbperimetro = gpd.GeoDataFrame({'geometry':[test]})\n",
    "dbperimetro.crs = provincias.crs"
   ]
  },
  {
   "cell_type": "code",
   "execution_count": 88,
   "metadata": {},
   "outputs": [
    {
     "data": {
      "text/html": [
       "<div>\n",
       "<style scoped>\n",
       "    .dataframe tbody tr th:only-of-type {\n",
       "        vertical-align: middle;\n",
       "    }\n",
       "\n",
       "    .dataframe tbody tr th {\n",
       "        vertical-align: top;\n",
       "    }\n",
       "\n",
       "    .dataframe thead th {\n",
       "        text-align: right;\n",
       "    }\n",
       "</style>\n",
       "<table border=\"1\" class=\"dataframe\">\n",
       "  <thead>\n",
       "    <tr style=\"text-align: right;\">\n",
       "      <th></th>\n",
       "      <th>geometry</th>\n",
       "      <th>index_right</th>\n",
       "    </tr>\n",
       "  </thead>\n",
       "  <tbody>\n",
       "    <tr>\n",
       "      <th>54</th>\n",
       "      <td>POLYGON ((-55.31861 -27.91788, -55.31861 -27.9...</td>\n",
       "      <td>0</td>\n",
       "    </tr>\n",
       "  </tbody>\n",
       "</table>\n",
       "</div>"
      ],
      "text/plain": [
       "                                             geometry  index_right\n",
       "54  POLYGON ((-55.31861 -27.91788, -55.31861 -27.9...            0"
      ]
     },
     "execution_count": 88,
     "metadata": {},
     "output_type": "execute_result"
    }
   ],
   "source": [
    "misiones = provincias.loc[provincias.provincia == 'Misiones']\n",
    "temp = gpd.sjoin(misiones[['geometry']],dbperimetro[['geometry']], op='intersects')\n",
    "temp"
   ]
  },
  {
   "cell_type": "code",
   "execution_count": 89,
   "metadata": {},
   "outputs": [],
   "source": [
    "recorte = gpd.overlay(misiones, dbperimetro, how='intersection')"
   ]
  },
  {
   "cell_type": "code",
   "execution_count": 90,
   "metadata": {},
   "outputs": [
    {
     "data": {
      "text/plain": [
       "Text(0.5, 1, 'Fuera de Misiones')"
      ]
     },
     "execution_count": 90,
     "metadata": {},
     "output_type": "execute_result"
    },
    {
     "data": {
      "image/png": "[encoded data removed]",
      "text/plain": [
       "<Figure size 720x360 with 2 Axes>"
      ]
     },
     "metadata": {
      "needs_background": "light"
     },
     "output_type": "display_data"
    }
   ],
   "source": [
    "fig = plt.figure(figsize=(10,5)) ; \n",
    "\n",
    "ax = fig.add_subplot(1,2,1)\n",
    "dbperimetro.plot(ax=ax,edgecolor='grey',facecolor='white')\n",
    "recorte.plot(ax=ax,alpha=0.2,color='red',edgecolor='grey')\n",
    "fuera_arg.loc[fuera_arg.prov == prov].plot(ax=ax, color='blue')\n",
    "\n",
    "ax1 = fig.add_subplot(1,2,2)\n",
    "dbperimetro.plot(ax=ax1,edgecolor='grey',facecolor='white')\n",
    "misiones.plot(ax=ax1,alpha=0.2,color='red',edgecolor='grey')\n",
    "fuera_arg.loc[fuera_arg.prov == prov].plot(ax=ax1, color='blue',markersize=5)\n",
    "\n",
    "ax.set_axis_off()\n",
    "ax1.set_axis_off()\n",
    "plt.axis('equal')\n",
    "ax.set_title('Fuera de {}'.format(prov))\n",
    "ax1.set_title('Fuera de {}'.format(prov))"
   ]
  },
  {
   "cell_type": "code",
   "execution_count": 91,
   "metadata": {},
   "outputs": [
    {
     "data": {
      "text/plain": [
       "'Desde el inicio, tardo en ejecutar: 1 minutos, 24 segundos.'"
      ]
     },
     "execution_count": 91,
     "metadata": {},
     "output_type": "execute_result"
    }
   ],
   "source": [
    "tiempo()"
   ]
  },
  {
   "cell_type": "code",
   "execution_count": 93,
   "metadata": {},
   "outputs": [
    {
     "data": {
      "text/html": [
       "<div>\n",
       "<style scoped>\n",
       "    .dataframe tbody tr th:only-of-type {\n",
       "        vertical-align: middle;\n",
       "    }\n",
       "\n",
       "    .dataframe tbody tr th {\n",
       "        vertical-align: top;\n",
       "    }\n",
       "\n",
       "    .dataframe thead th {\n",
       "        text-align: right;\n",
       "    }\n",
       "</style>\n",
       "<table border=\"1\" class=\"dataframe\">\n",
       "  <thead>\n",
       "    <tr style=\"text-align: right;\">\n",
       "      <th></th>\n",
       "      <th>index</th>\n",
       "      <th>operation</th>\n",
       "      <th>property_type</th>\n",
       "      <th>place_name</th>\n",
       "      <th>place_with_parent_names</th>\n",
       "      <th>country_name</th>\n",
       "      <th>state_name</th>\n",
       "      <th>geonames_id</th>\n",
       "      <th>lat-lon</th>\n",
       "      <th>lat</th>\n",
       "      <th>...</th>\n",
       "      <th>rooms</th>\n",
       "      <th>expenses</th>\n",
       "      <th>properati_url</th>\n",
       "      <th>description</th>\n",
       "      <th>title</th>\n",
       "      <th>image_thumbnail</th>\n",
       "      <th>id</th>\n",
       "      <th>geo_ok</th>\n",
       "      <th>geometry</th>\n",
       "      <th>prov</th>\n",
       "    </tr>\n",
       "  </thead>\n",
       "  <tbody>\n",
       "    <tr>\n",
       "      <th>46</th>\n",
       "      <td>58904</td>\n",
       "      <td>sell</td>\n",
       "      <td>apartment</td>\n",
       "      <td>Puerto Iguazú</td>\n",
       "      <td>|Argentina|Misiones|Puerto Iguazú|</td>\n",
       "      <td>Argentina</td>\n",
       "      <td>Misiones</td>\n",
       "      <td>3429777.0</td>\n",
       "      <td>-25.59477425,-54.5848999</td>\n",
       "      <td>-25.594774</td>\n",
       "      <td>...</td>\n",
       "      <td>NaN</td>\n",
       "      <td>NaN</td>\n",
       "      <td>http://www.properati.com.ar/19wgq_venta_depart...</td>\n",
       "      <td>JMF  Excelente Suite Estándar en Condo Hotel 3...</td>\n",
       "      <td>JMF Habitación en Hotel Merit Iguazú</td>\n",
       "      <td>https://thumbs4.properati.com/8/cKsD8K-ANRznq6...</td>\n",
       "      <td>19wgq</td>\n",
       "      <td>1</td>\n",
       "      <td>POINT (-54.58490 -25.59477)</td>\n",
       "      <td>Misiones</td>\n",
       "    </tr>\n",
       "  </tbody>\n",
       "</table>\n",
       "<p>1 rows × 30 columns</p>\n",
       "</div>"
      ],
      "text/plain": [
       "    index operation property_type     place_name  \\\n",
       "46  58904      sell     apartment  Puerto Iguazú   \n",
       "\n",
       "               place_with_parent_names country_name state_name  geonames_id  \\\n",
       "46  |Argentina|Misiones|Puerto Iguazú|    Argentina   Misiones    3429777.0   \n",
       "\n",
       "                     lat-lon        lat  ...  rooms  expenses  \\\n",
       "46  -25.59477425,-54.5848999 -25.594774  ...    NaN       NaN   \n",
       "\n",
       "                                        properati_url  \\\n",
       "46  http://www.properati.com.ar/19wgq_venta_depart...   \n",
       "\n",
       "                                          description  \\\n",
       "46  JMF  Excelente Suite Estándar en Condo Hotel 3...   \n",
       "\n",
       "                                   title  \\\n",
       "46  JMF Habitación en Hotel Merit Iguazú   \n",
       "\n",
       "                                      image_thumbnail     id  geo_ok  \\\n",
       "46  https://thumbs4.properati.com/8/cKsD8K-ANRznq6...  19wgq       1   \n",
       "\n",
       "                       geometry      prov  \n",
       "46  POINT (-54.58490 -25.59477)  Misiones  \n",
       "\n",
       "[1 rows x 30 columns]"
      ]
     },
     "execution_count": 93,
     "metadata": {},
     "output_type": "execute_result"
    }
   ],
   "source": [
    "fuera_arg.loc[fuera_arg.prov == prov]"
   ]
  },
  {
   "cell_type": "markdown",
   "metadata": {},
   "source": [
    "# poner cada punto sobre la geometria mas cercana"
   ]
  },
  {
   "cell_type": "code",
   "execution_count": null,
   "metadata": {},
   "outputs": [],
   "source": []
  },
  {
   "cell_type": "code",
   "execution_count": null,
   "metadata": {},
   "outputs": [],
   "source": []
  },
  {
   "cell_type": "code",
   "execution_count": null,
   "metadata": {},
   "outputs": [],
   "source": []
  },
  {
   "cell_type": "code",
   "execution_count": null,
   "metadata": {},
   "outputs": [],
   "source": []
  },
  {
   "cell_type": "code",
   "execution_count": null,
   "metadata": {},
   "outputs": [],
   "source": []
  },
  {
   "cell_type": "code",
   "execution_count": null,
   "metadata": {},
   "outputs": [],
   "source": []
  },
  {
   "cell_type": "code",
   "execution_count": null,
   "metadata": {},
   "outputs": [],
   "source": []
  },
  {
   "cell_type": "code",
   "execution_count": null,
   "metadata": {},
   "outputs": [],
   "source": []
  },
  {
   "cell_type": "code",
   "execution_count": null,
   "metadata": {},
   "outputs": [],
   "source": []
  },
  {
   "cell_type": "code",
   "execution_count": null,
   "metadata": {},
   "outputs": [],
   "source": []
  },
  {
   "cell_type": "code",
   "execution_count": null,
   "metadata": {},
   "outputs": [],
   "source": []
  }
 ],
 "metadata": {
  "kernelspec": {
   "display_name": "Python 3",
   "language": "python",
   "name": "python3"
  },
  "language_info": {
   "codemirror_mode": {
    "name": "ipython",
    "version": 3
   },
   "file_extension": ".py",
   "mimetype": "text/x-python",
   "name": "python",
   "nbconvert_exporter": "python",
   "pygments_lexer": "ipython3",
   "version": "3.7.5"
  }
 },
 "nbformat": 4,
 "nbformat_minor": 2
}
